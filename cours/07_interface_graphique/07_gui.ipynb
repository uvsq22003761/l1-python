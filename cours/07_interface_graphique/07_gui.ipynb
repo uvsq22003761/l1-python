{
 "cells": [
  {
   "cell_type": "markdown",
   "metadata": {
    "slideshow": {
     "slide_type": "slide"
    }
   },
   "source": [
    "# Cours 7 : interface graphique avec tkinter\n",
    "\n",
    "**GUI = graphical user interface**"
   ]
  },
  {
   "cell_type": "markdown",
   "metadata": {
    "slideshow": {
     "slide_type": "slide"
    }
   },
   "source": [
    "## 1. Généralités sur la programmation avec tkinter\n",
    "---\n",
    "\n",
    "*tkinter = tk interface* \n",
    "\n",
    "*tk = tool kit* est une bibliothèque d'interface graphique commune à différents langages de programmation.\n",
    "\n",
    "tkinter est installé avec Python. Il existe d'autres librairies graphiques comme *pygame*.\n",
    "\n",
    "**Sites de référence:**\n",
    "\n",
    "[Tutoriel simple en français](https://openclassrooms.com/fr/courses/235344-apprenez-a-programmer-en-python/234859-creez-des-interfaces-graphiques-avec-tkinter)\n",
    "\n",
    "[Tutoriel plus avancé en français](https://vincent.developpez.com/cours-tutoriels/python/tkinter/apprendre-creer-interface-graphique-tkinter-python-3/#LI)\n",
    "\n",
    "[Pour retrouver rapidement des informations sur tkinter](http://tkinter.fdex.eu/) (site très utile!)\n",
    "\n",
    "[La documentation officielle de Python](https://docs.python.org/fr/3/library/tkinter.html)"
   ]
  },
  {
   "cell_type": "markdown",
   "metadata": {
    "slideshow": {
     "slide_type": "subslide"
    }
   },
   "source": [
    "**Eléments d'une interface graphique (aussi appelé IHM = interface homme machine)**\n",
    "\n",
    "---\n",
    "\n",
    "* fenêtre graphique\n",
    "\n",
    "* *widgets* (window gadget): objets graphiques permettant à l'utilisateur d'intéragir avec un programme Python de manière conviviale:\n",
    "\n",
    "    * affichage de texte ou d'image\n",
    "    * boutons\n",
    "    * champs de saisie\n",
    "    * barre de défilement (aussi appelé ascenseur)\n",
    "    * espace de dessin (canevas), etc.\n",
    "\n",
    "    \n",
    "* gestionnaire d'événements:\n",
    "    * déplacement ou clic de souris\n",
    "    * appui sur une touche du clavier\n",
    "\n",
    "Chaque widget est contenu dans un autre widget, sauf la *fenêtre racine* qui correspond à la fenêtre principale."
   ]
  },
  {
   "cell_type": "markdown",
   "metadata": {
    "slideshow": {
     "slide_type": "subslide"
    }
   },
   "source": [
    "**Elements d'un programme minimal**\n",
    "\n",
    "---\n",
    "\n",
    "* importer la librairie *tkinter* abrégée en `tk`:\n",
    "```python\n",
    "import tkinter as tk\n",
    "```\n",
    "\n",
    "* la fonction de la librairie tkinter `Tk()` créée la fenêtre racine. La valeur retournée par la fonction doit être affecté à une variable pour pouvoir manipuler la fenêtre racine (ajouter des widgets, mettre à jour l'affichage...)\n",
    "\n",
    "* méthode `.mainloop()` associée à la fenêtre racine qui permet de démarrer le gestionnaire d'événements et de mettre à jour l'affichage. Elle est  toujours placée à la fin du programme (on verra pourquoi plus tard)."
   ]
  },
  {
   "cell_type": "code",
   "execution_count": 1,
   "metadata": {
    "slideshow": {
     "slide_type": "fragment"
    }
   },
   "outputs": [],
   "source": [
    "import tkinter as tk\n",
    "\n",
    "\n",
    "racine = tk.Tk() # Création de la fenêtre racine\n",
    "racine.mainloop() # Lancement de la boucle principale\n",
    "\n",
    "\n",
    "#Pour lancer une fenetre "
   ]
  },
  {
   "cell_type": "markdown",
   "metadata": {
    "slideshow": {
     "slide_type": "-"
    }
   },
   "source": [
    "La fenêtre possède une barre de titre (*tk* par défaut), et un espace gris. \n",
    "\n",
    "Elle peut être redimensionnée ou fermée avec la souris comme n'importe quelle fenêtre de votre environnement graphique."
   ]
  },
  {
   "cell_type": "markdown",
   "metadata": {
    "slideshow": {
     "slide_type": "subslide"
    }
   },
   "source": [
    "**Créer un widget**\n",
    "\n",
    "--- \n",
    "\n",
    "Syntaxe globale:\n",
    "```python\n",
    "ma_variable = UnWidget(widget_parent, parametre=\"une_valeur\")\n",
    "```\n",
    "* `ma_variable` est le nom choisi pour référencer le widget \n",
    "* `UnWidget()` est la fonction qui créée le widget, par exemple:\n",
    "    * `Label()`: affichage de texte\n",
    "    * `Button()`: bouton à cliquer\n",
    "    * `Canvas()`: canevas pour dessiner des objets\n",
    "* `widget_parent` est le nom du widget qui va contenir celui qu'on créée\n",
    "    * en général ce sera le widget racine pour des petites applications\n",
    "    * c'est le premier paramètre de la fonction qui créé le widget\n",
    "* les paramètres vont dépendre du widget. Ils sont souvent très nombreux, et on les utilise via leur nom et non pas leur position (sauf pour le widget parent).\n",
    "* dans le cours, on ne manipulera qu'une partie minime de la librairie.\n",
    "\n",
    "\n",
    "\n"
   ]
  },
  {
   "cell_type": "markdown",
   "metadata": {
    "slideshow": {
     "slide_type": "subslide"
    }
   },
   "source": [
    "**Exemple**\n",
    "\n",
    "---\n"
   ]
  },
  {
   "cell_type": "code",
   "execution_count": 3,
   "metadata": {
    "slideshow": {
     "slide_type": "-"
    }
   },
   "outputs": [],
   "source": [
    "import tkinter as tk\n",
    "\n",
    "racine = tk.Tk() # Création de la fenêtre racine\n",
    "racine.title(\"Un premier exemple\") # ajoute un titre\n",
    "label = tk.Label(racine, text=\"Un texte dans ma fenêtre\", font = (\"helvetica\", \"30\")) # création du widget Font est la police.\n",
    "label.grid() # positionnement du widget\n",
    "racine.mainloop() # Lancement de la boucle principale"
   ]
  },
  {
   "cell_type": "markdown",
   "metadata": {
    "slideshow": {
     "slide_type": "fragment"
    }
   },
   "source": [
    "En plus de la création du widget, il faut le positionner pour qu'il s'affiche. C'est le rôle de la méthode `.grid()`.\n",
    "\n",
    "On a également ajouté un titre à la fenêtre."
   ]
  },
  {
   "cell_type": "markdown",
   "metadata": {
    "slideshow": {
     "slide_type": "slide"
    }
   },
   "source": [
    "## 2. Positionnement des widgets\n",
    "\n",
    "---\n",
    "\n",
    "\n",
    "La librairie tkinter propose trois gestionnaires de position:\n",
    "* `.pack()`\n",
    "* `.place()`\n",
    "* `.grid()`: celui que nous utiliserons\n",
    "\n"
   ]
  },
  {
   "cell_type": "markdown",
   "metadata": {
    "slideshow": {
     "slide_type": "subslide"
    }
   },
   "source": [
    "**Méthode `.grid()`**\n",
    "\n",
    "---\n",
    "\n",
    "Ce gestionnaire place le widget dans une case du widget parent qui est divisé en lignes et colonnes:\n",
    "\n",
    "![](grid.png)\n"
   ]
  },
  {
   "cell_type": "code",
   "execution_count": 4,
   "metadata": {
    "slideshow": {
     "slide_type": "subslide"
    }
   },
   "outputs": [],
   "source": [
    "import tkinter as tk\n",
    "\n",
    "racine = tk.Tk() # Création de la fenêtre racine\n",
    "label1 = tk.Label(racine, text=\"Un texte long dans ma fenêtre\", font = (\"helvetica\", \"30\")) # création d'un widget\n",
    "label2 = tk.Label(racine, text=\"toto\", font = (\"helvetica\", \"30\")) # création d'un widget\n",
    "label1.grid(column=0, row=0) # positionnement du premier widget\n",
    "label2.grid(row=1, column=0) # positionnement du premier widget\n",
    "racine.mainloop() # Lancement de la boucle principale"
   ]
  },
  {
   "cell_type": "markdown",
   "metadata": {
    "slideshow": {
     "slide_type": "fragment"
    }
   },
   "source": [
    "Noter que les colonnes croissent de gauche à droite, et les lignes croissent de haut en bas.\n",
    "\n",
    "L'ensemble des paramètres associés à cette méthode sont [décrits ici](http://tkinter.fdex.eu/doc/gp.html)."
   ]
  },
  {
   "cell_type": "markdown",
   "metadata": {
    "slideshow": {
     "slide_type": "notes"
    }
   },
   "source": [
    "Tester différentes valeurs de colonnes et lignes."
   ]
  },
  {
   "cell_type": "markdown",
   "metadata": {
    "slideshow": {
     "slide_type": "subslide"
    }
   },
   "source": [
    "**Ajouter des marges**\n",
    "\n",
    "---\n",
    "\n",
    "Avec les paramètres `padx` et `pady`."
   ]
  },
  {
   "cell_type": "code",
   "execution_count": 6,
   "metadata": {
    "slideshow": {
     "slide_type": "-"
    }
   },
   "outputs": [],
   "source": [
    "import tkinter as tk\n",
    "\n",
    "racine = tk.Tk() # Création de la fenêtre racine\n",
    "label1 = tk.Label(racine, text=\"Un texte long dans ma fenêtre\", font = (\"helvetica\", \"30\")) # création d'un widget\n",
    "label2 = tk.Label(racine, text=\"toto\",font = (\"helvetica\", \"30\")) # création d'un widget\n",
    "label1.grid(column=0, row=0, padx=50) # positionnement du premier widget #x l'axe des abscisses.\n",
    "label2.grid(column=0, row=1, pady=10) # positionnement du premier widget #y l'axe des ordonnées.\n",
    "racine.mainloop() # Lancement de la boucle principale"
   ]
  },
  {
   "cell_type": "markdown",
   "metadata": {
    "slideshow": {
     "slide_type": "fragment"
    }
   },
   "source": [
    "Noter que, par défaut, le widget est centré verticalement et horizontalement à l'intérieur de sa case.\n",
    "\n",
    " Par défaut, l'unité utilisée est le pixel. Pour changer l'unité, écrire, par exemple\n",
    "```python\n",
    "padx=\"10cm\"\n",
    "```\n",
    "\n",
    "La marge peut être directement ajoutée à la création du widget par\n",
    "```python\n",
    "label2 = tk.Label(racine, text=\"toto\", padx=10)\n",
    "```"
   ]
  },
  {
   "cell_type": "markdown",
   "metadata": {
    "slideshow": {
     "slide_type": "subslide"
    }
   },
   "source": [
    "**Exercice**\n",
    "\n",
    "---\n",
    "Ecrire le programme qui affiche la fenêtre suivante qui comporte 8 labels. Ici les labels sont mis en relief pour mieux les distinguer mais on ne demande pas de le faire. Votre solution doit être la plus proche possible de ce qui s'affiche. La police utilisée est `(\"helvetica\", \"26\")`.\n",
    "\n",
    "\n",
    "![](exo.png)"
   ]
  },
  {
   "cell_type": "code",
   "execution_count": 2,
   "metadata": {},
   "outputs": [],
   "source": [
    "import tkinter as tk\n",
    "\n",
    "racine = tk.Tk() # Création de la fenêtre racine\n",
    "\n",
    "label1 = tk.Label(racine, text=\"12\", font = (\"helvetica\", \"26\"))\n",
    "label2 = tk.Label(racine, text=\"+\", font = (\"helvetica\", \"26\"))\n",
    "label3 = tk.Label(racine, text=\"25\", font = (\"helvetica\", \"26\"))\n",
    "label4 = tk.Label(racine, text=\"=\", font = (\"helvetica\", \"26\"))\n",
    "label5 = tk.Label(racine, text=\"37\", font = (\"helvetica\", \"26\"))\n",
    "label6 = tk.Button(racine, text=\"choisir une valeur pour l'opérande gauche\", font = (\"helvetica\", \"26\"))\n",
    "label7 = tk.Button(racine, text=\"calculer\", font = (\"helvetica\", \"26\"))\n",
    "label8 = tk.Button(racine, text=\"choisir une valeur pour l'opérande droite\", font = (\"helvetica\", \"26\"))\n",
    "\n",
    "label1.grid(column=1, row=0)\n",
    "label2.grid(column=2, row=0)\n",
    "label3.grid(column=3, row=0)\n",
    "label4.grid(column=4, row=0)\n",
    "label5.grid(column=5, row=0)\n",
    "label6.grid(column=0, row=1)\n",
    "label7.grid(column=1, row=1, columnspan=5)\n",
    "label8.grid(column=0, row=2)\n",
    "\n",
    "racine.mainloop()"
   ]
  },
  {
   "cell_type": "markdown",
   "metadata": {
    "slideshow": {
     "slide_type": "slide"
    }
   },
   "source": [
    "## 3. Widgets Label et Button\n",
    "\n",
    "---\n",
    "\n",
    "Paramètres de choix de couleurs:\n",
    "* `fg` (ou `foreground`): couleur du texte\n",
    "* `bg` (ou `background`): couleur du fond\n",
    "\n",
    "Exemples de noms de couleurs:\n",
    "* white\n",
    "* black\n",
    "* red\n",
    "* green\n",
    "* blue\n",
    "* cyan\n",
    "* yellow\n",
    "\n",
    "On verra plus tard comment construire nos propres couleurs."
   ]
  },
  {
   "cell_type": "code",
   "execution_count": 7,
   "metadata": {
    "slideshow": {
     "slide_type": "subslide"
    }
   },
   "outputs": [],
   "source": [
    "import tkinter as tk\n",
    "import random as rd\n",
    "\n",
    "couleurs = [\"red\", \"green\", \"blue\", \"cyan\", \"yellow\"]\n",
    "couleur_fond = rd.choice(couleurs)\n",
    "couleurs.remove(couleur_fond)\n",
    "couleur_texte = rd.choice(couleurs)\n",
    "racine = tk.Tk() # Création de la fenêtre racine\n",
    "label = tk.Label(racine, bg=couleur_fond, fg=couleur_texte,\n",
    "                 text=\"couleur texte: \" + couleur_texte + \"\\ncouleur fond: \" + couleur_fond,\n",
    "                 padx=20, pady=20, borderwidth=5, relief=\"groove\",\n",
    "                 font = (\"helvetica\", \"30\") \n",
    "                )\n",
    "label.grid() # positionnement du premier widget\n",
    "racine.mainloop() # Lancement de la boucle principale"
   ]
  },
  {
   "cell_type": "markdown",
   "metadata": {
    "slideshow": {
     "slide_type": "subslide"
    }
   },
   "source": [
    "**Modifier un paramètre d'un widget**\n",
    "\n",
    "---\n",
    "Avec la méthode `.config()`\n",
    "```python\n",
    "widget.config(param=new_value)\n",
    "```"
   ]
  },
  {
   "cell_type": "code",
   "execution_count": 8,
   "metadata": {
    "slideshow": {
     "slide_type": "fragment"
    }
   },
   "outputs": [],
   "source": [
    "import tkinter as tk\n",
    "\n",
    "racine = tk.Tk() # Création de la fenêtre racine\n",
    "label = tk.Label(racine, text=\"Un texte long dans ma fenêtre\", font = (\"helvetica\", \"30\")) # création d'un widget\n",
    "label.config(text=\"autre texte\", bg=\"blue\") # modification des paramètres du widget\n",
    "label.grid() \n",
    "racine.mainloop() # Lancement de la boucle principale"
   ]
  },
  {
   "cell_type": "markdown",
   "metadata": {
    "slideshow": {
     "slide_type": "subslide"
    }
   },
   "source": [
    "**Exemple avec un widget Button**\n",
    "\n",
    "---"
   ]
  },
  {
   "cell_type": "code",
   "execution_count": 9,
   "metadata": {
    "slideshow": {
     "slide_type": "-"
    }
   },
   "outputs": [],
   "source": [
    "import tkinter as tk\n",
    "\n",
    "def affichage():\n",
    "    \"\"\" Modifie le texte d'un label. \"\"\"\n",
    "    global cpt\n",
    "    cpt += 1\n",
    "    label.config(text=\"tu as cliqué \" + str(cpt)+ \" fois\")\n",
    "\n",
    "cpt = 0\n",
    "racine = tk.Tk() # Création de la fenêtre racine\n",
    "label = tk.Label(racine, text=\"texte avant de cliquer sur le bouton\",\n",
    "                  padx=20, pady=20, font = (\"helvetica\", \"30\") \n",
    "                )\n",
    "label.grid(row=0, column=0)\n",
    "bouton = tk.Button(racine, text=\"Un bouton sur lequel cliquer\", \n",
    "                    command=affichage, font = (\"helvetica\", \"30\") \n",
    "                  ) # création du widget\n",
    "bouton.grid(row=1, column=0) # positionnement du widget\n",
    "racine.mainloop() # Lancement de la boucle principale"
   ]
  },
  {
   "cell_type": "markdown",
   "metadata": {
    "slideshow": {
     "slide_type": "-"
    }
   },
   "source": [
    "**Rappel:** l'instruction `global cpt` permet de modifier la variable globale à l'intérieur de la fonction."
   ]
  },
  {
   "cell_type": "markdown",
   "metadata": {
    "slideshow": {
     "slide_type": "subslide"
    }
   },
   "source": [
    "**Argument `command`**\n",
    "\n",
    "---\n",
    "\n",
    "Cet argument permet d'appeler une fonction quand on clique sur le bouton.\n",
    "```python\n",
    "bouton = tk.Button(racine, text=\"Un bouton sur lequel cliquer\", command=affichage)\n",
    "```\n",
    "La fonction est appelée *sans paramètres*. On appelle cela une fonction *callback*.\n",
    "\n",
    "Pour pouvoir utiliser des paramètres malgré tout, on peut utiliser une *fonction anonyme* de la manière suivante:\n",
    "```python\n",
    "command=lambda : f(x, y, z)\n",
    "```\n",
    "où `x, y` et `z` sont les arguments à passer à la fonction `f`.\n",
    "\n",
    "\n",
    "\n"
   ]
  },
  {
   "cell_type": "code",
   "execution_count": null,
   "metadata": {
    "slideshow": {
     "slide_type": "subslide"
    }
   },
   "outputs": [],
   "source": [
    "import tkinter as tk\n",
    "\n",
    "def affichage(texte):\n",
    "    \"\"\" Modifie le texte d'un label. \"\"\"\n",
    "    label.config(text=texte)\n",
    "\n",
    "racine = tk.Tk() # Création de la fenêtre racine\n",
    "label = tk.Label(racine, text=\"\", padx=20, pady=20, font = (\"helvetica\", \"30\"))\n",
    "label.grid(row=0, column=0, columnspan=2)\n",
    "bouton1 = tk.Button(racine, text=\"affichage 1\", command=lambda : affichage(\"ils sont fous ces romains\"),\n",
    "                     font = (\"helvetica\", \"30\")\n",
    "                   ) \n",
    "bouton1.grid(row=1, column=0) \n",
    "bouton2 = tk.Button(racine, text=\"affichage 2\", \n",
    "                    command=lambda : affichage(\"quand lama faché, lui toujours faire ainsi\"),\n",
    "                    font = (\"helvetica\", \"30\") \n",
    "                   )\n",
    "bouton2.grid(row=1, column=1) \n",
    "racine.mainloop() # Lancement de la boucle principale"
   ]
  },
  {
   "cell_type": "markdown",
   "metadata": {
    "slideshow": {
     "slide_type": "fragment"
    }
   },
   "source": [
    "**Remarque:** l'argument `columnspan=2` permet de couvrir 2 colonnes de la grille dans l'appel à la méthode `label.grid()`."
   ]
  },
  {
   "cell_type": "markdown",
   "metadata": {
    "slideshow": {
     "slide_type": "subslide"
    }
   },
   "source": [
    "**Exercice**\n",
    "\n",
    "---\n",
    "Reprendre l'exercice précédent, à savoir le dessin de la fenêtre suivante:\n",
    "\n",
    "![](exo.png)\n",
    "\n",
    "Maintenant les textes `choisir une valeur...` et `calculer` doivent être des boutons.\n",
    "\n",
    "* quand on clique sur `choisir une valeur...`, l'utilisateur doit entrer une valeur pour l'opérande de droite ou de gauche, et le nombre affiché doit être modifié en conséquence.\n",
    "\n",
    "* quand on clique sur `calculer`, le résultat de la somme doit s'afficher"
   ]
  },
  {
   "cell_type": "code",
   "execution_count": 10,
   "metadata": {},
   "outputs": [],
   "source": [
    "import tkinter as tk\n",
    "\n",
    "racine = tk.Tk() # Création de la fenêtre racine\n",
    "\n",
    "g = 0\n",
    "d = 0\n",
    "def gauche():\n",
    "    global g \n",
    "    g = int(input())\n",
    "    label1.config\n",
    "\n",
    "def droite():\n",
    "    global d\n",
    "    d = int(input())\n",
    "    label3.config\n",
    "\n",
    "\n",
    "label1 = tk.Label(racine, text=\"12\", font = (\"helvetica\", \"26\"))\n",
    "label2 = tk.Label(racine, text=\"+\", font = (\"helvetica\", \"26\"))\n",
    "label3 = tk.Label(racine, text=\"25\", font = (\"helvetica\", \"26\"))\n",
    "label4 = tk.Label(racine, text=\"=\", font = (\"helvetica\", \"26\"))\n",
    "label5 = tk.Label(racine, text=\"37\", font = (\"helvetica\", \"26\"))\n",
    "label6 = tk.Button(racine, text=\"choisir une valeur pour l'opérande gauche\",command=gauche(),  font = (\"helvetica\", \"26\"))\n",
    "label7 = tk.Button(racine, text=\"calculer\", font = (\"helvetica\", \"26\"))\n",
    "label8 = tk.Button(racine, text=\"choisir une valeur pour l'opérande droite\",command=droite(), font = (\"helvetica\", \"26\"))\n",
    "\n",
    "label1.grid(column=1, row=0)\n",
    "label2.grid(column=2, row=0)\n",
    "label3.grid(column=3, row=0)\n",
    "label4.grid(column=4, row=0)\n",
    "label5.grid(column=5, row=0)\n",
    "label6.grid(column=0, row=1)\n",
    "label7.grid(column=1, row=1, columnspan=5)\n",
    "label8.grid(column=0, row=2)\n",
    "\n",
    "racine.mainloop()"
   ]
  },
  {
   "cell_type": "markdown",
   "metadata": {
    "slideshow": {
     "slide_type": "slide"
    }
   },
   "source": [
    "## 4. Widget Canvas\n",
    "\n",
    "--- \n",
    "\n",
    "Widget qui permet de dessiner des formes telles que des lignes, des cercles... et de les animer. Il est utile pour créer des jeux.\n"
   ]
  },
  {
   "cell_type": "code",
   "execution_count": 1,
   "metadata": {
    "slideshow": {
     "slide_type": "-"
    }
   },
   "outputs": [],
   "source": [
    "import tkinter as tk\n",
    "\n",
    "\n",
    "racine = tk.Tk() # Création de la fenêtre racine\n",
    "canvas = tk.Canvas(racine, bg=\"red\", height=500, width=500) #hauteur et largeur de la fenetre\n",
    "canvas.grid()\n",
    "racine.mainloop() # Lancement de la boucle principale"
   ]
  },
  {
   "cell_type": "markdown",
   "metadata": {
    "slideshow": {
     "slide_type": "subslide"
    }
   },
   "source": [
    "**Dessiner des objets dans un canevas: la ligne brisée**\n",
    "\n",
    "---"
   ]
  },
  {
   "cell_type": "code",
   "execution_count": 2,
   "metadata": {
    "slideshow": {
     "slide_type": "-"
    }
   },
   "outputs": [],
   "source": [
    "import tkinter as tk\n",
    "\n",
    "HEIGHT = 500\n",
    "WIDTH = 500\n",
    "\n",
    "racine = tk.Tk() # Création de la fenêtre racine\n",
    "canvas = tk.Canvas(racine, bg=\"red\", height=HEIGHT, width=WIDTH)\n",
    "canvas.grid()\n",
    "canvas.create_line((0, 0), (WIDTH/2, HEIGHT/2), (WIDTH, 0), fill=\"blue\", width=5)\n",
    "racine.mainloop() # Lancement de la boucle principale"
   ]
  },
  {
   "cell_type": "markdown",
   "metadata": {
    "slideshow": {
     "slide_type": "fragment"
    }
   },
   "source": [
    "**Remarques:**\n",
    "* les parenthèses autour des coordonnées `(x, y)` sont facultatives, mais rendent le code plus lisible\n",
    "* l'axe des $x$ va de gauche à droite, et celui des $y$ va de haut en bas\n",
    "* les variables `WIDTH` et `HEIGHT` jouent le rôle de constantes, et sont écrites en majuscules"
   ]
  },
  {
   "cell_type": "markdown",
   "metadata": {
    "slideshow": {
     "slide_type": "subslide"
    }
   },
   "source": [
    "**Dessiner des objets dans un canevas: l'ellipse**\n",
    "\n",
    "---\n"
   ]
  },
  {
   "cell_type": "code",
   "execution_count": 4,
   "metadata": {
    "slideshow": {
     "slide_type": "-"
    }
   },
   "outputs": [],
   "source": [
    "import tkinter as tk\n",
    "\n",
    "HEIGHT = 500\n",
    "WIDTH = 500\n",
    "\n",
    "racine = tk.Tk() # Création de la fenêtre racine\n",
    "canvas = tk.Canvas(racine, bg=\"red\", height=HEIGHT, width=WIDTH)\n",
    "canvas.grid()\n",
    "canvas.create_oval((100, 100), (400, 300), fill=\"blue\", width=5, outline=\"cyan\")\n",
    "racine.mainloop() # Lancement de la boucle principale"
   ]
  },
  {
   "cell_type": "markdown",
   "metadata": {
    "slideshow": {
     "slide_type": "fragment"
    }
   },
   "source": [
    "**Remarque:** l'appel à\n",
    "```python\n",
    "canvas.create_oval((x0, y0), (x1, y1))\n",
    "```\n",
    "dessine l'ellipse inscrite dans le rectangle aux côtés horizontaux et verticaux ayant pour sommets opposés les points de coordonnées `(x0, y0)` et `(x1, y1)`. C'est un cercle si ce rectangle est un carré."
   ]
  },
  {
   "cell_type": "markdown",
   "metadata": {
    "slideshow": {
     "slide_type": "subslide"
    }
   },
   "source": [
    "**Manipulation des objets dessinés**\n",
    "\n",
    "---\n",
    "\n",
    "* en plus des lignes et des ellipses, le widget canvas permet de dessiner des polygones, des arcs de cercles.\n",
    "* les méthodes `.create_objet()` renvoient l'identifiant de l'objet qui a été créé. Des méthodes du canvas peuvent ensuite modifier l'objet grâce à son identifiant.\n"
   ]
  },
  {
   "cell_type": "code",
   "execution_count": 10,
   "metadata": {
    "slideshow": {
     "slide_type": "fragment"
    }
   },
   "outputs": [],
   "source": [
    "import tkinter as tk\n",
    "\n",
    "HEIGHT = 500\n",
    "WIDTH = 500\n",
    "\n",
    "def bouge_cercle():\n",
    "    canvas.move(cercle, 50, 50) # méthode qui déplace l'objet cercle\n",
    "\n",
    "racine = tk.Tk() # Création de la fenêtre racine\n",
    "bouton = tk.Button(text=\"déplace cercle\", \n",
    "                    command=bouge_cercle, font = (\"Helvetica\", \"30\")\n",
    "                  )\n",
    "bouton.grid(column=0, row=1)\n",
    "canvas = tk.Canvas(racine, bg=\"red\", height=HEIGHT, width=WIDTH)\n",
    "canvas.grid(column=0, row=0)\n",
    "# on récupère l'identifiant du cercle:\n",
    "cercle = canvas.create_oval((100, 100), (300, 300), fill=\"blue\", width=5, outline=\"cyan\") \n",
    "racine.mainloop() # Lancement de la boucle principale"
   ]
  },
  {
   "cell_type": "markdown",
   "metadata": {
    "slideshow": {
     "slide_type": "subslide"
    }
   },
   "source": [
    "**Exercice: construire un damier de taille 8x8**\n",
    "\n",
    "---\n",
    "\n",
    "Note: utiliser la méthode `.create_rectangle()`"
   ]
  },
  {
   "cell_type": "code",
   "execution_count": 30,
   "metadata": {
    "slideshow": {
     "slide_type": "fragment"
    }
   },
   "outputs": [],
   "source": [
    "import tkinter as tk\n",
    "\n",
    "racine = tk.Tk()\n",
    "HEIGHT = 800\n",
    "WIDTH = 800\n",
    "\n",
    "damier = tk.Canvas(racine, height=HEIGHT, width=WIDTH)\n",
    "damier.grid()\n",
    "damier.create_rectangle((0, 0), (WIDTH/8, HEIGHT/8), fill = \"black\")\n",
    "damier.create_rectangle((WIDTH/8, 0), (2*(WIDTH/8), HEIGHT/8), fill = \"white\")\n",
    "damier.create_rectangle((0, HEIGHT/8), (WIDTH/8, HEIGHT/4), fill = \"white\")\n",
    "damier.create_rectangle((WIDTH/8, HEIGHT/8), (WIDTH/4, HEIGHT/4), fill = \"black\")\n",
    "\n",
    "for i in range (8):\n",
    "    for j in range (8):\n",
    "        pos1x = i*(WIDTH/8)\n",
    "        pos1y = j*(HEIGHT/8)\n",
    "        pos2x = (i+1)*(WIDTH/8)\n",
    "        pos2y = (j+1)*(HEIGHT/8)\n",
    "\n",
    "        if (i+j) % 2 == 0 :\n",
    "            damier.create_rectangle((pos1x, pos1y), (pos2x, pos2y), fill = \"black\")\n",
    "        else:\n",
    "            damier.create_rectangle((pos1x, pos1y), (pos2x, pos2y), fill = \"white\")\n",
    "\n",
    "\n",
    "racine.mainloop()"
   ]
  },
  {
   "cell_type": "code",
   "execution_count": 8,
   "metadata": {
    "slideshow": {
     "slide_type": "notes"
    }
   },
   "outputs": [],
   "source": [
    "import tkinter as tk\n",
    "\n",
    "HEIGHT = 500\n",
    "WIDTH = 500\n",
    "largeur_case = WIDTH // 8\n",
    "hauteur_case = HEIGHT // 8\n",
    "\n",
    "racine = tk.Tk() # Création de la fenêtre racine\n",
    "canvas = tk.Canvas(racine, bg=\"red\", height=HEIGHT, width=WIDTH)\n",
    "canvas.grid()\n",
    "for i in range(8):\n",
    "    for j in range(8):\n",
    "        if (i+j) % 2 == 0:\n",
    "            color = \"gray80\"\n",
    "        else:\n",
    "            color = \"black\"\n",
    "        canvas.create_rectangle((i*largeur_case, j*hauteur_case),\n",
    "                ((i+1)*largeur_case, (j+1)*hauteur_case), fill=color)\n",
    "racine.mainloop() # Lancement de la boucle principale"
   ]
  },
  {
   "cell_type": "markdown",
   "metadata": {
    "slideshow": {
     "slide_type": "subslide"
    }
   },
   "source": [
    "**Couleurs**\n",
    "\n",
    "---\n",
    "\n",
    "Comme on l'a vu, certaines couleurs sont déjà prédéfinies.\n",
    "\n",
    "![](800px-TkInterColorCharts.png)\n",
    "\n",
    "Extrait de `http://stackoverflow.com/questions/4969543/colour-chart-for-tkinter-and-tix-using-python`"
   ]
  },
  {
   "cell_type": "markdown",
   "metadata": {
    "slideshow": {
     "slide_type": "subslide"
    }
   },
   "source": [
    "**Construire ses couleurs**\n",
    "\n",
    "---\n",
    "\n",
    "Une couleur est codée par ses trois teintes `(rouge, vert, bleu)` qui peuvent prendre chacune une valeur entre 0 et 255.\n",
    "\n",
    "**Exemples:**\n",
    "* noir: (0, 0, 0)\n",
    "* blanc: (0, 0, 0)\n",
    "* gris: (x, x, x)\n",
    "* rouge: (255, 0, 0)\n",
    "* jaune: (255, 255, 0)\n",
    "\n",
    "Combien y a-t'il de couleurs différentes?\n",
    "\n",
    "Voici une fonction qui retourne une couleur sous le format attendu par tkinter à partir de ces 3 composantes (on ne demande pas de comprendre son fonctionnement):"
   ]
  },
  {
   "cell_type": "code",
   "execution_count": 1,
   "metadata": {
    "slideshow": {
     "slide_type": "fragment"
    }
   },
   "outputs": [],
   "source": [
    "def get_color(r, g, b):\n",
    "    \"\"\" Retourne une couleur à partir de ses composantes r, g, b\"\"\"\n",
    "    return '#{:02x}{:02x}{:02x}'.format(r, g, b)"
   ]
  },
  {
   "cell_type": "markdown",
   "metadata": {
    "slideshow": {
     "slide_type": "subslide"
    }
   },
   "source": [
    "**Utilisation de la fonction `get_color()`**\n",
    "\n",
    "---\n",
    "Le programme demande 3 valeurs et affiche la couleur correspondante."
   ]
  },
  {
   "cell_type": "code",
   "execution_count": 35,
   "metadata": {
    "slideshow": {
     "slide_type": "-"
    }
   },
   "outputs": [],
   "source": [
    "import tkinter as tk\n",
    "\n",
    "def afficher_couleur():\n",
    "    while True:\n",
    "        r = int(input(\"Teinte de rouge? \"))\n",
    "        v = int(input(\"Teinte de vert? \"))\n",
    "        b = int(input(\"Teinte de bleu? \"))\n",
    "        if 0 <= r <= 255 and 0 <= v <= 255 and 0 <= b <= 255:\n",
    "            break\n",
    "    canvas.config(bg=get_color(r, v, b))\n",
    "                      \n",
    "\n",
    "racine = tk.Tk() # Création de la fenêtre racine\n",
    "canvas = tk.Canvas(racine, width=400, height=400, bg=\"white\")\n",
    "canvas.grid(row=0)\n",
    "bouton = tk.Button(racine, text=\"Choisir couleur\", font=(\"Helvetica\", \"30\"), command=afficher_couleur)\n",
    "bouton.grid(row=1)\n",
    "\n",
    "racine.mainloop() # Lancement de la boucle principale"
   ]
  },
  {
   "cell_type": "markdown",
   "metadata": {},
   "source": [
    "**Remarque:** on aurait pu utiliser les champs de saisie pour récupérer les valeurs choisies par l'utilisateur dans la fenêtre graphique. Mais leur utilisation est plus complexe."
   ]
  },
  {
   "cell_type": "markdown",
   "metadata": {
    "slideshow": {
     "slide_type": "slide"
    }
   },
   "source": [
    "## 5. Gestion des événements\n",
    "\n",
    "---\n",
    "\n",
    "* Un *événement* est la survenue d'une action faite par l'utilisateur (clavier ou souris) à laquelle le programme doit réagir:\n",
    "\n",
    "    * clic sur un bouton de la souris\n",
    "    * déplacement de la souris\n",
    "    * appui sur une touche du clavier\n",
    "    * relâchement d'une touche du clavier\n",
    "    * un compte à rebours est écoulé (cet événement n'est pas déclenché directement par l'utilisateur)...\n",
    "\n",
    "\n",
    "* Par exemple, le widget Button réagit à un clic souris en appelant la fonction associé à son paramètre `command`.\n",
    "\n",
    "\n",
    "* De manière plus générale, on peut *lier* un événement à une action pour un événement qui surviendrait dans un widget donné de la manière suivante:\n",
    "```python\n",
    "widget.bind(event, action)\n",
    "```\n",
    "où\n",
    "    * `event` est un descripteur de l'événement à traiter\n",
    "    * `action` est la fonction (callback) à appeler quand l'événement survient"
   ]
  },
  {
   "cell_type": "markdown",
   "metadata": {
    "slideshow": {
     "slide_type": "subslide"
    }
   },
   "source": [
    "**Exemple: connaître les coordonnées du point cliqué**\n",
    "\n",
    "---"
   ]
  },
  {
   "cell_type": "code",
   "execution_count": 3,
   "metadata": {
    "slideshow": {
     "slide_type": "-"
    }
   },
   "outputs": [
    {
     "output_type": "stream",
     "name": "stdout",
     "text": [
      "clic aux coordonnées  123 113\n"
     ]
    }
   ],
   "source": [
    "import tkinter as tk\n",
    "\n",
    "def affichage(event):\n",
    "    print(\"clic aux coordonnées \", event.x , event.y)\n",
    "    \n",
    "racine = tk.Tk() # Création de la fenêtre racine\n",
    "racine.bind(\"<Button-1>\", affichage)\n",
    "racine.mainloop() # Lancement de la boucle principale"
   ]
  },
  {
   "cell_type": "markdown",
   "metadata": {
    "slideshow": {
     "slide_type": "fragment"
    }
   },
   "source": [
    "**Méthode `.mainloop()`**\n",
    "\n",
    "---\n",
    "\n",
    "La méthode `.mainloop()` implémente une boucle infinie dont on ne sort que en quittant le programme (clic sur la croix de fermeture de la fenêtre). A chaque itération:\n",
    "\n",
    "* elle exécute les actions liées aux événements associés aux widgets: méthode `.bind()`\n",
    "* elle exécute les actions dont le compte à rebours est arrivé à échéance: méthode `.after()`\n",
    "\n",
    "On appelle cela la *programmation événementielle*: le programme est défini par ses réactions aux événements qui peuvent se produire, dont l'ordre n'est pas pas connu à l'avance, au contraire de la *programmation séquentiel*.\n",
    "\n",
    "C'est aussi le paradigme de programmation utilisé en robotique.\n",
    "\n",
    "Toute fonction (comme `affichage`) appelée dans `bind` aura obligatoirement comme premier argument une variable de type événement (détails après). Cette variable se nomme `event` en général."
   ]
  },
  {
   "cell_type": "markdown",
   "metadata": {
    "slideshow": {
     "slide_type": "subslide"
    }
   },
   "source": [
    "**Méthode `.mainloop()`**\n",
    "\n",
    "---\n",
    "La méthode `.mainloop()` bloque l'exécution du programme et doit donc se placer à la fin."
   ]
  },
  {
   "cell_type": "code",
   "execution_count": 4,
   "metadata": {
    "slideshow": {
     "slide_type": "-"
    }
   },
   "outputs": [
    {
     "output_type": "stream",
     "name": "stdout",
     "text": [
      "hello world\n"
     ]
    }
   ],
   "source": [
    "import tkinter as tk\n",
    "\n",
    "\n",
    "racine = tk.Tk() # Création de la fenêtre racine\n",
    "racine.mainloop() # Lancement de la boucle principale\n",
    "print(\"hello world\")"
   ]
  },
  {
   "cell_type": "markdown",
   "metadata": {
    "slideshow": {
     "slide_type": "subslide"
    }
   },
   "source": [
    "**Format des événements**\n",
    "\n",
    "---\n",
    "L'utilisation de la méthode `.bind()` nécessite de connaître le code associés aux événements événements. Par exemple, dans\n",
    "```python\n",
    "canvas.bind(\"<Button-1>\", affichage)\n",
    "```\n",
    "`<Button-1>` désigne un clic gauche de la souris.\n",
    "\n",
    "Quelques événements standards:\n",
    "* `<Button-i>`: clic souris gauche si i vaut 1, central si i vaut 2 et droite si i vaut 3\n",
    "* `<ButtonRelease-i>`: relâchement d'un bouton de la souris (i vaut 1, 2 ou 3 comme ci-dessus)\n",
    "* `<KeyPress-i>`: touche `i` enfoncée\n",
    "* `<KeyRelease-i>`: touche `i` relachée\n",
    "* pleins d'autres exemples [ici](http://effbot.org/tkinterbook/tkinter-events-and-bindings.htm#events)\n"
   ]
  },
  {
   "cell_type": "code",
   "execution_count": 5,
   "metadata": {
    "slideshow": {
     "slide_type": "subslide"
    }
   },
   "outputs": [
    {
     "output_type": "stream",
     "name": "stdout",
     "text": [
      "toto\n",
      "Tu as appuyé sur la touche a\n",
      "Tu as relâché la touche a\n",
      "Tu as appuyé sur la touche a\n",
      "Tu as appuyé sur la touche a\n",
      "Tu as appuyé sur la touche a\n",
      "Tu as appuyé sur la touche a\n",
      "Tu as appuyé sur la touche a\n",
      "Tu as appuyé sur la touche a\n",
      "Tu as appuyé sur la touche a\n",
      "Tu as appuyé sur la touche a\n",
      "Tu as appuyé sur la touche a\n",
      "Tu as appuyé sur la touche a\n",
      "Tu as appuyé sur la touche a\n",
      "Tu as appuyé sur la touche a\n",
      "Tu as appuyé sur la touche a\n",
      "Tu as appuyé sur la touche a\n",
      "Tu as appuyé sur la touche a\n",
      "Tu as appuyé sur la touche a\n",
      "Tu as appuyé sur la touche a\n",
      "Tu as appuyé sur la touche a\n",
      "Tu as appuyé sur la touche a\n",
      "Tu as appuyé sur la touche a\n",
      "Tu as appuyé sur la touche a\n",
      "Tu as appuyé sur la touche a\n",
      "Tu as appuyé sur la touche a\n",
      "Tu as relâché la touche a\n"
     ]
    }
   ],
   "source": [
    "import tkinter as tk\n",
    "\n",
    "def appui_a(event):\n",
    "    print(\"Tu as appuyé sur la touche a\")\n",
    "\n",
    "def relache_a(event):\n",
    "    print(\"Tu as relâché la touche a\")\n",
    "    \n",
    "def affichage(event):\n",
    "    print(\"toto\")\n",
    "    \n",
    "racine = tk.Tk() # Création de la fenêtre racine\n",
    "racine.bind(\"<KeyPress-a>\", appui_a)\n",
    "racine.bind(\"<KeyRelease-a>\", relache_a)\n",
    "racine.bind(\"<Button-1>\", affichage)\n",
    "racine.mainloop() # Lancement de la boucle principale"
   ]
  },
  {
   "cell_type": "markdown",
   "metadata": {
    "slideshow": {
     "slide_type": "fragment"
    }
   },
   "source": [
    "**Remarques:** \n",
    "* maintenir la touche appuyé pendant un certain temps mène à répéter la suite d'appui - relâchement de la touche\n",
    "* pour recevoir un événement clavier, un widget doit avoir le *focus*, et, par défaut, le widget racine a bien le focus. "
   ]
  },
  {
   "cell_type": "markdown",
   "metadata": {
    "slideshow": {
     "slide_type": "subslide"
    }
   },
   "source": [
    "**Fonction callback**\n",
    "\n",
    "---\n",
    "\n",
    "La fonction callback est la fonction appelée quand un événement se produit. La fonction doit accepter au moins un argument qui se nomme généralement `event` et est placé en premier argument de la fonction:\n",
    "```python\n",
    "def fonction_callback(event, argument2...):\n",
    "    pass\n",
    "```\n",
    "Cet argument permet de récupérer des informations sur l'événement. Quelques *attributs* utiles:\n",
    "* `event.x, event.y`: position de la souris par rapport à la fenêtre\n",
    "* `event.char`: le caractère (pour événement clavier) donné sous forme de string"
   ]
  },
  {
   "cell_type": "code",
   "execution_count": 6,
   "metadata": {
    "slideshow": {
     "slide_type": "fragment"
    }
   },
   "outputs": [
    {
     "output_type": "stream",
     "name": "stdout",
     "text": [
      "Tu as appuyé sur la touche a\n",
      "Tu as appuyé sur la touche a\n",
      "Tu as appuyé sur la touche a\n",
      "Tu as appuyé sur la touche t\n",
      "Tu as appuyé sur la touche y\n",
      "Tu as appuyé sur la touche u\n"
     ]
    }
   ],
   "source": [
    "import tkinter as tk\n",
    "\n",
    "def appui_touche(event):\n",
    "    print(\"Tu as appuyé sur la touche\", event.char)\n",
    "\n",
    "racine = tk.Tk() # Création de la fenêtre racine\n",
    "racine.bind(\"<KeyPress>\", appui_touche)\n",
    "racine.mainloop() # Lancement de la boucle principale"
   ]
  },
  {
   "cell_type": "code",
   "execution_count": null,
   "metadata": {},
   "outputs": [],
   "source": []
  },
  {
   "cell_type": "markdown",
   "metadata": {
    "slideshow": {
     "slide_type": "fragment"
    }
   },
   "source": [
    "**Remarque**: le programme fonctionne pour les touches correspondant à des caractères uniquement."
   ]
  },
  {
   "cell_type": "markdown",
   "metadata": {
    "slideshow": {
     "slide_type": "subslide"
    }
   },
   "source": [
    "**Création de compte à rebours avec la méthode `.after()`**\n",
    "\n",
    "---\n",
    "\n",
    "C'est une méthode commune à tous les widgets:\n",
    "```python\n",
    "widget.after(delai, fonction)\n",
    "```\n",
    "* `delai`: est la durée en ms avant d'appeler la fonction\n",
    "* `fonction`: est la fonction appelée"
   ]
  },
  {
   "cell_type": "code",
   "execution_count": 4,
   "metadata": {
    "slideshow": {
     "slide_type": "-"
    },
    "tags": [
     "outputPrepend"
    ]
   },
   "outputs": [
    {
     "output_type": "stream",
     "name": "stdout",
     "text": [
      "2\n",
      "Affichage numéro 3433\n",
      "Affichage numéro 3434\n",
      "Affichage numéro 3435\n",
      "Affichage numéro 3436\n",
      "Affichage numéro 3437\n",
      "Affichage numéro 3438\n",
      "Affichage numéro 3439\n",
      "Affichage numéro 3440\n",
      "Affichage numéro 3441\n",
      "Affichage numéro 3442\n",
      "Affichage numéro 3443\n",
      "Affichage numéro 3444\n",
      "Affichage numéro 3445\n",
      "Affichage numéro 3446\n",
      "Affichage numéro 3447\n",
      "Affichage numéro 3448\n",
      "Affichage numéro 3449\n",
      "Affichage numéro 3450\n",
      "Affichage numéro 3451\n",
      "Affichage numéro 3452\n",
      "Affichage numéro 3453\n",
      "Affichage numéro 3454\n",
      "Affichage numéro 3455\n",
      "Affichage numéro 3456\n",
      "Affichage numéro 3457\n",
      "Affichage numéro 3458\n",
      "Affichage numéro 3459\n",
      "Affichage numéro 3460\n",
      "Affichage numéro 3461\n",
      "Affichage numéro 3462\n",
      "Affichage numéro 3463\n",
      "Affichage numéro 3464\n",
      "Affichage numéro 3465\n",
      "Affichage numéro 3466\n",
      "Affichage numéro 3467\n",
      "Affichage numéro 3468\n",
      "Affichage numéro 3469\n",
      "Affichage numéro 3470\n",
      "Affichage numéro 3471\n",
      "Affichage numéro 3472\n",
      "Affichage numéro 3473\n",
      "Affichage numéro 3474\n",
      "Affichage numéro 3475\n",
      "Affichage numéro 3476\n",
      "Affichage numéro 3477\n",
      "Affichage numéro 3478\n",
      "Affichage numéro 3479\n",
      "Affichage numéro 3480\n",
      "Affichage numéro 3481\n",
      "Affichage numéro 3482\n",
      "Affichage numéro 3483\n",
      "Affichage numéro 3484\n",
      "Affichage numéro 3485\n",
      "Affichage numéro 3486\n",
      "Affichage numéro 3487\n",
      "Affichage numéro 3488\n",
      "Affichage numéro 3489\n",
      "Affichage numéro 3490\n",
      "Affichage numéro 3491\n",
      "Affichage numéro 3492\n",
      "Affichage numéro 3493\n",
      "Affichage numéro 3494\n",
      "Affichage numéro 3495\n",
      "Affichage numéro 3496\n",
      "Affichage numéro 3497\n",
      "Affichage numéro 3498\n",
      "Affichage numéro 3499\n",
      "Affichage numéro 3500\n",
      "Affichage numéro 3501\n",
      "Affichage numéro 3502\n",
      "Affichage numéro 3503\n",
      "Affichage numéro 3504\n",
      "Affichage numéro 3505\n",
      "Affichage numéro 3506\n",
      "Affichage numéro 3507\n",
      "Affichage numéro 3508\n",
      "Affichage numéro 3509\n",
      "Affichage numéro 3510\n",
      "Affichage numéro 3511\n",
      "Affichage numéro 3512\n",
      "Affichage numéro 3513\n",
      "Affichage numéro 3514\n",
      "Affichage numéro 3515\n",
      "Affichage numéro 3516\n",
      "Affichage numéro 3517\n",
      "Affichage numéro 3518\n",
      "Affichage numéro 3519\n",
      "Affichage numéro 3520\n",
      "Affichage numéro 3521\n",
      "Affichage numéro 3522\n",
      "Affichage numéro 3523\n",
      "Affichage numéro 3524\n",
      "Affichage numéro 3525\n",
      "Affichage numéro 3526\n",
      "Affichage numéro 3527\n",
      "Affichage numéro 3528\n",
      "Affichage numéro 3529\n",
      "Affichage numéro 3530\n",
      "Affichage numéro 3531\n",
      "Affichage numéro 3532\n",
      "Affichage numéro 3533\n",
      "Affichage numéro 3534\n",
      "Affichage numéro 3535\n",
      "Affichage numéro 3536\n",
      "Affichage numéro 3537\n",
      "Affichage numéro 3538\n",
      "Affichage numéro 3539\n",
      "Affichage numéro 3540\n",
      "Affichage numéro 3541\n",
      "Affichage numéro 3542\n",
      "Affichage numéro 3543\n",
      "Affichage numéro 3544\n",
      "Affichage numéro 3545\n",
      "Affichage numéro 3546\n",
      "Affichage numéro 3547\n",
      "Affichage numéro 3548\n",
      "Affichage numéro 3549\n",
      "Affichage numéro 3550\n",
      "Affichage numéro 3551\n",
      "Affichage numéro 3552\n",
      "Affichage numéro 3553\n",
      "Affichage numéro 3554\n",
      "Affichage numéro 3555\n",
      "Affichage numéro 3556\n",
      "Affichage numéro 3557\n",
      "Affichage numéro 3558\n",
      "Affichage numéro 3559\n",
      "Affichage numéro 3560\n",
      "Affichage numéro 3561\n",
      "Affichage numéro 3562\n",
      "Affichage numéro 3563\n",
      "Affichage numéro 3564\n",
      "Affichage numéro 3565\n",
      "Affichage numéro 3566\n",
      "Affichage numéro 3567\n",
      "Affichage numéro 3568\n",
      "Affichage numéro 3569\n",
      "Affichage numéro 3570\n",
      "Affichage numéro 3571\n",
      "Affichage numéro 3572\n",
      "Affichage numéro 3573\n",
      "Affichage numéro 3574\n",
      "Affichage numéro 3575\n",
      "Affichage numéro 3576\n",
      "Affichage numéro 3577\n",
      "Affichage numéro 3578\n",
      "Affichage numéro 3579\n",
      "Affichage numéro 3580\n",
      "Affichage numéro 3581\n",
      "Affichage numéro 3582\n",
      "Affichage numéro 3583\n",
      "Affichage numéro 3584\n",
      "Affichage numéro 3585\n",
      "Affichage numéro 3586\n",
      "Affichage numéro 3587\n",
      "Affichage numéro 3588\n",
      "Affichage numéro 3589\n",
      "Affichage numéro 3590\n",
      "Affichage numéro 3591\n",
      "Affichage numéro 3592\n",
      "Affichage numéro 3593\n",
      "Affichage numéro 3594\n",
      "Affichage numéro 3595\n",
      "Affichage numéro 3596\n",
      "Affichage numéro 3597\n",
      "Affichage numéro 3598\n",
      "Affichage numéro 3599\n",
      "Affichage numéro 3600\n",
      "Affichage numéro 3601\n",
      "Affichage numéro 3602\n",
      "Affichage numéro 3603\n",
      "Affichage numéro 3604\n",
      "Affichage numéro 3605\n",
      "Affichage numéro 3606\n",
      "Affichage numéro 3607\n",
      "Affichage numéro 3608\n",
      "Affichage numéro 3609\n",
      "Affichage numéro 3610\n",
      "Affichage numéro 3611\n",
      "Affichage numéro 3612\n",
      "Affichage numéro 3613\n",
      "Affichage numéro 3614\n",
      "Affichage numéro 3615\n",
      "Affichage numéro 3616\n",
      "Affichage numéro 3617\n",
      "Affichage numéro 3618\n",
      "Affichage numéro 3619\n",
      "Affichage numéro 3620\n",
      "Affichage numéro 3621\n",
      "Affichage numéro 3622\n",
      "Affichage numéro 3623\n",
      "Affichage numéro 3624\n",
      "Affichage numéro 3625\n",
      "Affichage numéro 3626\n",
      "Affichage numéro 3627\n",
      "Affichage numéro 3628\n",
      "Affichage numéro 3629\n",
      "Affichage numéro 3630\n",
      "Affichage numéro 3631\n",
      "Affichage numéro 3632\n",
      "Affichage numéro 3633\n",
      "Affichage numéro 3634\n",
      "Affichage numéro 3635\n",
      "Affichage numéro 3636\n",
      "Affichage numéro 3637\n",
      "Affichage numéro 3638\n",
      "Affichage numéro 3639\n",
      "Affichage numéro 3640\n",
      "Affichage numéro 3641\n",
      "Affichage numéro 3642\n",
      "Affichage numéro 3643\n",
      "Affichage numéro 3644\n",
      "Affichage numéro 3645\n",
      "Affichage numéro 3646\n",
      "Affichage numéro 3647\n",
      "Affichage numéro 3648\n",
      "Affichage numéro 3649\n",
      "Affichage numéro 3650\n",
      "Affichage numéro 3651\n",
      "Affichage numéro 3652\n",
      "Affichage numéro 3653\n",
      "Affichage numéro 3654\n",
      "Affichage numéro 3655\n",
      "Affichage numéro 3656\n",
      "Affichage numéro 3657\n",
      "Affichage numéro 3658\n",
      "Affichage numéro 3659\n",
      "Affichage numéro 3660\n",
      "Affichage numéro 3661\n",
      "Affichage numéro 3662\n",
      "Affichage numéro 3663\n",
      "Affichage numéro 3664\n",
      "Affichage numéro 3665\n",
      "Affichage numéro 3666\n",
      "Affichage numéro 3667\n",
      "Affichage numéro 3668\n",
      "Affichage numéro 3669\n",
      "Affichage numéro 3670\n",
      "Affichage numéro 3671\n",
      "Affichage numéro 3672\n",
      "Affichage numéro 3673\n",
      "Affichage numéro 3674\n",
      "Affichage numéro 3675\n",
      "Affichage numéro 3676\n",
      "Affichage numéro 3677\n",
      "Affichage numéro 3678\n",
      "Affichage numéro 3679\n",
      "Affichage numéro 3680\n",
      "Affichage numéro 3681\n",
      "Affichage numéro 3682\n",
      "Affichage numéro 3683\n",
      "Affichage numéro 3684\n",
      "Affichage numéro 3685\n",
      "Affichage numéro 3686\n",
      "Affichage numéro 3687\n",
      "Affichage numéro 3688\n",
      "Affichage numéro 3689\n",
      "Affichage numéro 3690\n",
      "Affichage numéro 3691\n",
      "Affichage numéro 3692\n",
      "Affichage numéro 3693\n",
      "Affichage numéro 3694\n",
      "Affichage numéro 3695\n",
      "Affichage numéro 3696\n",
      "Affichage numéro 3697\n",
      "Affichage numéro 3698\n",
      "Affichage numéro 3699\n",
      "Affichage numéro 3700\n",
      "Affichage numéro 3701\n",
      "Affichage numéro 3702\n",
      "Affichage numéro 3703\n",
      "Affichage numéro 3704\n",
      "Affichage numéro 3705\n",
      "Affichage numéro 3706\n",
      "Affichage numéro 3707\n",
      "Affichage numéro 3708\n",
      "Affichage numéro 3709\n",
      "Affichage numéro 3710\n",
      "Affichage numéro 3711\n",
      "Affichage numéro 3712\n",
      "Affichage numéro 3713\n",
      "Affichage numéro 3714\n",
      "Affichage numéro 3715\n",
      "Affichage numéro 3716\n",
      "Affichage numéro 3717\n",
      "Affichage numéro 3718\n",
      "Affichage numéro 3719\n",
      "Affichage numéro 3720\n",
      "Affichage numéro 3721\n",
      "Affichage numéro 3722\n",
      "Affichage numéro 3723\n",
      "Affichage numéro 3724\n",
      "Affichage numéro 3725\n",
      "Affichage numéro 3726\n",
      "Affichage numéro 3727\n",
      "Affichage numéro 3728\n",
      "Affichage numéro 3729\n",
      "Affichage numéro 3730\n",
      "Affichage numéro 3731\n",
      "Affichage numéro 3732\n",
      "Affichage numéro 3733\n",
      "Affichage numéro 3734\n",
      "Affichage numéro 3735\n",
      "Affichage numéro 3736\n",
      "Affichage numéro 3737\n",
      "Affichage numéro 3738\n",
      "Affichage numéro 3739\n",
      "Affichage numéro 3740\n",
      "Affichage numéro 3741\n",
      "Affichage numéro 3742\n",
      "Affichage numéro 3743\n",
      "Affichage numéro 3744\n",
      "Affichage numéro 3745\n",
      "Affichage numéro 3746\n",
      "Affichage numéro 3747\n",
      "Affichage numéro 3748\n",
      "Affichage numéro 3749\n",
      "Affichage numéro 3750\n",
      "Affichage numéro 3751\n",
      "Affichage numéro 3752\n",
      "Affichage numéro 3753\n",
      "Affichage numéro 3754\n",
      "Affichage numéro 3755\n",
      "Affichage numéro 3756\n",
      "Affichage numéro 3757\n",
      "Affichage numéro 3758\n",
      "Affichage numéro 3759\n",
      "Affichage numéro 3760\n",
      "Affichage numéro 3761\n",
      "Affichage numéro 3762\n",
      "Affichage numéro 3763\n",
      "Affichage numéro 3764\n",
      "Affichage numéro 3765\n",
      "Affichage numéro 3766\n",
      "Affichage numéro 3767\n",
      "Affichage numéro 3768\n",
      "Affichage numéro 3769\n",
      "Affichage numéro 3770\n",
      "Affichage numéro 3771\n",
      "Affichage numéro 3772\n",
      "Affichage numéro 3773\n",
      "Affichage numéro 3774\n",
      "Affichage numéro 3775\n",
      "Affichage numéro 3776\n",
      "Affichage numéro 3777\n",
      "Affichage numéro 3778\n",
      "Affichage numéro 3779\n",
      "Affichage numéro 3780\n",
      "Affichage numéro 3781\n",
      "Affichage numéro 3782\n",
      "Affichage numéro 3783\n",
      "Affichage numéro 3784\n",
      "Affichage numéro 3785\n",
      "Affichage numéro 3786\n",
      "Affichage numéro 3787\n",
      "Affichage numéro 3788\n",
      "Affichage numéro 3789\n",
      "Affichage numéro 3790\n",
      "Affichage numéro 3791\n",
      "Affichage numéro 3792\n",
      "Affichage numéro 3793\n",
      "Affichage numéro 3794\n",
      "Affichage numéro 3795\n",
      "Affichage numéro 3796\n",
      "Affichage numéro 3797\n",
      "Affichage numéro 3798\n",
      "Affichage numéro 3799\n",
      "Affichage numéro 3800\n",
      "Affichage numéro 3801\n",
      "Affichage numéro 3802\n",
      "Affichage numéro 3803\n",
      "Affichage numéro 3804\n",
      "Affichage numéro 3805\n",
      "Affichage numéro 3806\n",
      "Affichage numéro 3807\n",
      "Affichage numéro 3808\n",
      "Affichage numéro 3809\n",
      "Affichage numéro 3810\n",
      "Affichage numéro 3811\n",
      "Affichage numéro 3812\n",
      "Affichage numéro 3813\n",
      "Affichage numéro 3814\n",
      "Affichage numéro 3815\n",
      "Affichage numéro 3816\n",
      "Affichage numéro 3817\n",
      "Affichage numéro 3818\n",
      "Affichage numéro 3819\n",
      "Affichage numéro 3820\n",
      "Affichage numéro 3821\n",
      "Affichage numéro 3822\n",
      "Affichage numéro 3823\n",
      "Affichage numéro 3824\n",
      "Affichage numéro 3825\n",
      "Affichage numéro 3826\n",
      "Affichage numéro 3827\n",
      "Affichage numéro 3828\n",
      "Affichage numéro 3829\n",
      "Affichage numéro 3830\n",
      "Affichage numéro 3831\n",
      "Affichage numéro 3832\n",
      "Affichage numéro 3833\n",
      "Affichage numéro 3834\n",
      "Affichage numéro 3835\n",
      "Affichage numéro 3836\n",
      "Affichage numéro 3837\n",
      "Affichage numéro 3838\n",
      "Affichage numéro 3839\n",
      "Affichage numéro 3840\n",
      "Affichage numéro 3841\n",
      "Affichage numéro 3842\n",
      "Affichage numéro 3843\n",
      "Affichage numéro 3844\n",
      "Affichage numéro 3845\n",
      "Affichage numéro 3846\n",
      "Affichage numéro 3847\n",
      "Affichage numéro 3848\n",
      "Affichage numéro 3849\n",
      "Affichage numéro 3850\n",
      "Affichage numéro 3851\n",
      "Affichage numéro 3852\n",
      "Affichage numéro 3853\n",
      "Affichage numéro 3854\n",
      "Affichage numéro 3855\n",
      "Affichage numéro 3856\n",
      "Affichage numéro 3857\n",
      "Affichage numéro 3858\n",
      "Affichage numéro 3859\n",
      "Affichage numéro 3860\n",
      "Affichage numéro 3861\n",
      "Affichage numéro 3862\n",
      "Affichage numéro 3863\n",
      "Affichage numéro 3864\n",
      "Affichage numéro 3865\n",
      "Affichage numéro 3866\n",
      "Affichage numéro 3867\n",
      "Affichage numéro 3868\n",
      "Affichage numéro 3869\n",
      "Affichage numéro 3870\n",
      "Affichage numéro 3871\n",
      "Affichage numéro 3872\n",
      "Affichage numéro 3873\n",
      "Affichage numéro 3874\n",
      "Affichage numéro 3875\n",
      "Affichage numéro 3876\n",
      "Affichage numéro 3877\n",
      "Affichage numéro 3878\n",
      "Affichage numéro 3879\n",
      "Affichage numéro 3880\n",
      "Affichage numéro 3881\n",
      "Affichage numéro 3882\n",
      "Affichage numéro 3883\n",
      "Affichage numéro 3884\n",
      "Affichage numéro 3885\n",
      "Affichage numéro 3886\n",
      "Affichage numéro 3887\n",
      "Affichage numéro 3888\n",
      "Affichage numéro 3889\n",
      "Affichage numéro 3890\n",
      "Affichage numéro 3891\n",
      "Affichage numéro 3892\n",
      "Affichage numéro 3893\n",
      "Affichage numéro 3894\n",
      "Affichage numéro 3895\n",
      "Affichage numéro 3896\n",
      "Affichage numéro 3897\n",
      "Affichage numéro 3898\n",
      "Affichage numéro 3899\n",
      "Affichage numéro 3900\n",
      "Affichage numéro 3901\n",
      "Affichage numéro 3902\n",
      "Affichage numéro 3903\n",
      "Affichage numéro 3904\n",
      "Affichage numéro 3905\n",
      "Affichage numéro 3906\n",
      "Affichage numéro 3907\n",
      "Affichage numéro 3908\n",
      "Affichage numéro 3909\n",
      "Affichage numéro 3910\n",
      "Affichage numéro 3911\n",
      "Affichage numéro 3912\n",
      "Affichage numéro 3913\n",
      "Affichage numéro 3914\n",
      "Affichage numéro 3915\n",
      "Affichage numéro 3916\n",
      "Affichage numéro 3917\n",
      "Affichage numéro 3918\n",
      "Affichage numéro 3919\n",
      "Affichage numéro 3920\n",
      "Affichage numéro 3921\n",
      "Affichage numéro 3922\n",
      "Affichage numéro 3923\n",
      "Affichage numéro 3924\n",
      "Affichage numéro 3925\n",
      "Affichage numéro 3926\n",
      "Affichage numéro 3927\n",
      "Affichage numéro 3928\n",
      "Affichage numéro 3929\n",
      "Affichage numéro 3930\n",
      "Affichage numéro 3931\n",
      "Affichage numéro 3932\n",
      "Affichage numéro 3933\n",
      "Affichage numéro 3934\n",
      "Affichage numéro 3935\n",
      "Affichage numéro 3936\n",
      "Affichage numéro 3937\n",
      "Affichage numéro 3938\n",
      "Affichage numéro 3939\n",
      "Affichage numéro 3940\n",
      "Affichage numéro 3941\n",
      "Affichage numéro 3942\n",
      "Affichage numéro 3943\n",
      "Affichage numéro 3944\n",
      "Affichage numéro 3945\n",
      "Affichage numéro 3946\n",
      "Affichage numéro 3947\n",
      "Affichage numéro 3948\n",
      "Affichage numéro 3949\n",
      "Affichage numéro 3950\n",
      "Affichage numéro 3951\n",
      "Affichage numéro 3952\n",
      "Affichage numéro 3953\n",
      "Affichage numéro 3954\n",
      "Affichage numéro 3955\n",
      "Affichage numéro 3956\n",
      "Affichage numéro 3957\n",
      "Affichage numéro 3958\n",
      "Affichage numéro 3959\n",
      "Affichage numéro 3960\n",
      "Affichage numéro 3961\n",
      "Affichage numéro 3962\n",
      "Affichage numéro 3963\n",
      "Affichage numéro 3964\n",
      "Affichage numéro 3965\n",
      "Affichage numéro 3966\n",
      "Affichage numéro 3967\n",
      "Affichage numéro 3968\n",
      "Affichage numéro 3969\n",
      "Affichage numéro 3970\n",
      "Affichage numéro 3971\n",
      "Affichage numéro 3972\n",
      "Affichage numéro 3973\n",
      "Affichage numéro 3974\n",
      "Affichage numéro 3975\n",
      "Affichage numéro 3976\n",
      "Affichage numéro 3977\n",
      "Affichage numéro 3978\n",
      "Affichage numéro 3979\n",
      "Affichage numéro 3980\n",
      "Affichage numéro 3981\n",
      "Affichage numéro 3982\n",
      "Affichage numéro 3983\n",
      "Affichage numéro 3984\n",
      "Affichage numéro 3985\n",
      "Affichage numéro 3986\n",
      "Affichage numéro 3987\n",
      "Affichage numéro 3988\n",
      "Affichage numéro 3989\n",
      "Affichage numéro 3990\n",
      "Affichage numéro 3991\n",
      "Affichage numéro 3992\n",
      "Affichage numéro 3993\n",
      "Affichage numéro 3994\n",
      "Affichage numéro 3995\n",
      "Affichage numéro 3996\n",
      "Affichage numéro 3997\n",
      "Affichage numéro 3998\n",
      "Affichage numéro 3999\n",
      "Affichage numéro 4000\n",
      "Affichage numéro 4001\n",
      "Affichage numéro 4002\n",
      "Affichage numéro 4003\n",
      "Affichage numéro 4004\n",
      "Affichage numéro 4005\n",
      "Affichage numéro 4006\n",
      "Affichage numéro 4007\n",
      "Affichage numéro 4008\n",
      "Affichage numéro 4009\n",
      "Affichage numéro 4010\n",
      "Affichage numéro 4011\n",
      "Affichage numéro 4012\n",
      "Affichage numéro 4013\n",
      "Affichage numéro 4014\n",
      "Affichage numéro 4015\n",
      "Affichage numéro 4016\n",
      "Affichage numéro 4017\n",
      "Affichage numéro 4018\n",
      "Affichage numéro 4019\n",
      "Affichage numéro 4020\n",
      "Affichage numéro 4021\n",
      "Affichage numéro 4022\n",
      "Affichage numéro 4023\n",
      "Affichage numéro 4024\n",
      "Affichage numéro 4025\n",
      "Affichage numéro 4026\n",
      "Affichage numéro 4027\n",
      "Affichage numéro 4028\n",
      "Affichage numéro 4029\n",
      "Affichage numéro 4030\n",
      "Affichage numéro 4031\n",
      "Affichage numéro 4032\n",
      "Affichage numéro 4033\n",
      "Affichage numéro 4034\n",
      "Affichage numéro 4035\n",
      "Affichage numéro 4036\n",
      "Affichage numéro 4037\n",
      "Affichage numéro 4038\n",
      "Affichage numéro 4039\n",
      "Affichage numéro 4040\n",
      "Affichage numéro 4041\n",
      "Affichage numéro 4042\n",
      "Affichage numéro 4043\n",
      "Affichage numéro 4044\n",
      "Affichage numéro 4045\n",
      "Affichage numéro 4046\n",
      "Affichage numéro 4047\n",
      "Affichage numéro 4048\n",
      "Affichage numéro 4049\n",
      "Affichage numéro 4050\n",
      "Affichage numéro 4051\n",
      "Affichage numéro 4052\n",
      "Affichage numéro 4053\n",
      "Affichage numéro 4054\n",
      "Affichage numéro 4055\n",
      "Affichage numéro 4056\n",
      "Affichage numéro 4057\n",
      "Affichage numéro 4058\n",
      "Affichage numéro 4059\n",
      "Affichage numéro 4060\n",
      "Affichage numéro 4061\n",
      "Affichage numéro 4062\n",
      "Affichage numéro 4063\n",
      "Affichage numéro 4064\n",
      "Affichage numéro 4065\n",
      "Affichage numéro 4066\n",
      "Affichage numéro 4067\n",
      "Affichage numéro 4068\n",
      "Affichage numéro 4069\n",
      "Affichage numéro 4070\n",
      "Affichage numéro 4071\n",
      "Affichage numéro 4072\n",
      "Affichage numéro 4073\n",
      "Affichage numéro 4074\n",
      "Affichage numéro 4075\n",
      "Affichage numéro 4076\n",
      "Affichage numéro 4077\n",
      "Affichage numéro 4078\n",
      "Affichage numéro 4079\n",
      "Affichage numéro 4080\n",
      "Affichage numéro 4081\n",
      "Affichage numéro 4082\n",
      "Affichage numéro 4083\n",
      "Affichage numéro 4084\n",
      "Affichage numéro 4085\n",
      "Affichage numéro 4086\n",
      "Affichage numéro 4087\n",
      "Affichage numéro 4088\n",
      "Affichage numéro 4089\n",
      "Affichage numéro 4090\n",
      "Affichage numéro 4091\n",
      "Affichage numéro 4092\n",
      "Affichage numéro 4093\n",
      "Affichage numéro 4094\n",
      "Affichage numéro 4095\n",
      "Affichage numéro 4096\n",
      "Affichage numéro 4097\n",
      "Affichage numéro 4098\n",
      "Affichage numéro 4099\n",
      "Affichage numéro 4100\n",
      "Affichage numéro 4101\n",
      "Affichage numéro 4102\n",
      "Affichage numéro 4103\n",
      "Affichage numéro 4104\n",
      "Affichage numéro 4105\n",
      "Affichage numéro 4106\n",
      "Affichage numéro 4107\n",
      "Affichage numéro 4108\n",
      "Affichage numéro 4109\n",
      "Affichage numéro 4110\n",
      "Affichage numéro 4111\n",
      "Affichage numéro 4112\n",
      "Affichage numéro 4113\n",
      "Affichage numéro 4114\n",
      "Affichage numéro 4115\n",
      "Affichage numéro 4116\n",
      "Affichage numéro 4117\n",
      "Affichage numéro 4118\n",
      "Affichage numéro 4119\n",
      "Affichage numéro 4120\n",
      "Affichage numéro 4121\n",
      "Affichage numéro 4122\n",
      "Affichage numéro 4123\n",
      "Affichage numéro 4124\n",
      "Affichage numéro 4125\n",
      "Affichage numéro 4126\n",
      "Affichage numéro 4127\n",
      "Affichage numéro 4128\n",
      "Affichage numéro 4129\n",
      "Affichage numéro 4130\n",
      "Affichage numéro 4131\n",
      "Affichage numéro 4132\n",
      "Affichage numéro 4133\n",
      "Affichage numéro 4134\n",
      "Affichage numéro 4135\n",
      "Affichage numéro 4136\n",
      "Affichage numéro 4137\n",
      "Affichage numéro 4138\n",
      "Affichage numéro 4139\n",
      "Affichage numéro 4140\n",
      "Affichage numéro 4141\n",
      "Affichage numéro 4142\n",
      "Affichage numéro 4143\n",
      "Affichage numéro 4144\n",
      "Affichage numéro 4145\n",
      "Affichage numéro 4146\n",
      "Affichage numéro 4147\n",
      "Affichage numéro 4148\n",
      "Affichage numéro 4149\n",
      "Affichage numéro 4150\n",
      "Affichage numéro 4151\n",
      "Affichage numéro 4152\n",
      "Affichage numéro 4153\n",
      "Affichage numéro 4154\n",
      "Affichage numéro 4155\n",
      "Affichage numéro 4156\n",
      "Affichage numéro 4157\n",
      "Affichage numéro 4158\n",
      "Affichage numéro 4159\n",
      "Affichage numéro 4160\n",
      "Affichage numéro 4161\n",
      "Affichage numéro 4162\n",
      "Affichage numéro 4163\n",
      "Affichage numéro 4164\n",
      "Affichage numéro 4165\n",
      "Affichage numéro 4166\n",
      "Affichage numéro 4167\n",
      "Affichage numéro 4168\n",
      "Affichage numéro 4169\n",
      "Affichage numéro 4170\n",
      "Affichage numéro 4171\n",
      "Affichage numéro 4172\n",
      "Affichage numéro 4173\n",
      "Affichage numéro 4174\n",
      "Affichage numéro 4175\n",
      "Affichage numéro 4176\n",
      "Affichage numéro 4177\n",
      "Affichage numéro 4178\n",
      "Affichage numéro 4179\n",
      "Affichage numéro 4180\n",
      "Affichage numéro 4181\n",
      "Affichage numéro 4182\n",
      "Affichage numéro 4183\n",
      "Affichage numéro 4184\n",
      "Affichage numéro 4185\n",
      "Affichage numéro 4186\n",
      "Affichage numéro 4187\n",
      "Affichage numéro 4188\n",
      "Affichage numéro 4189\n",
      "Affichage numéro 4190\n",
      "Affichage numéro 4191\n",
      "Affichage numéro 4192\n",
      "Affichage numéro 4193\n",
      "Affichage numéro 4194\n",
      "Affichage numéro 4195\n",
      "Affichage numéro 4196\n",
      "Affichage numéro 4197\n",
      "Affichage numéro 4198\n",
      "Affichage numéro 4199\n",
      "Affichage numéro 4200\n",
      "Affichage numéro 4201\n",
      "Affichage numéro 4202\n",
      "Affichage numéro 4203\n",
      "Affichage numéro 4204\n",
      "Affichage numéro 4205\n",
      "Affichage numéro 4206\n",
      "Affichage numéro 4207\n",
      "Affichage numéro 4208\n",
      "Affichage numéro 4209\n",
      "Affichage numéro 4210\n",
      "Affichage numéro 4211\n",
      "Affichage numéro 4212\n",
      "Affichage numéro 4213\n",
      "Affichage numéro 4214\n",
      "Affichage numéro 4215\n",
      "Affichage numéro 4216\n",
      "Affichage numéro 4217\n",
      "Affichage numéro 4218\n",
      "Affichage numéro 4219\n",
      "Affichage numéro 4220\n",
      "Affichage numéro 4221\n",
      "Affichage numéro 4222\n",
      "Affichage numéro 4223\n",
      "Affichage numéro 4224\n",
      "Affichage numéro 4225\n",
      "Affichage numéro 4226\n",
      "Affichage numéro 4227\n",
      "Affichage numéro 4228\n",
      "Affichage numéro 4229\n",
      "Affichage numéro 4230\n",
      "Affichage numéro 4231\n",
      "Affichage numéro 4232\n",
      "Affichage numéro 4233\n",
      "Affichage numéro 4234\n",
      "Affichage numéro 4235\n",
      "Affichage numéro 4236\n",
      "Affichage numéro 4237\n",
      "Affichage numéro 4238\n",
      "Affichage numéro 4239\n",
      "Affichage numéro 4240\n",
      "Affichage numéro 4241\n",
      "Affichage numéro 4242\n",
      "Affichage numéro 4243\n",
      "Affichage numéro 4244\n",
      "Affichage numéro 4245\n",
      "Affichage numéro 4246\n",
      "Affichage numéro 4247\n",
      "Affichage numéro 4248\n",
      "Affichage numéro 4249\n",
      "Affichage numéro 4250\n",
      "Affichage numéro 4251\n",
      "Affichage numéro 4252\n",
      "Affichage numéro 4253\n",
      "Affichage numéro 4254\n",
      "Affichage numéro 4255\n",
      "Affichage numéro 4256\n",
      "Affichage numéro 4257\n",
      "Affichage numéro 4258\n",
      "Affichage numéro 4259\n",
      "Affichage numéro 4260\n",
      "Affichage numéro 4261\n",
      "Affichage numéro 4262\n",
      "Affichage numéro 4263\n",
      "Affichage numéro 4264\n",
      "Affichage numéro 4265\n",
      "Affichage numéro 4266\n",
      "Affichage numéro 4267\n",
      "Affichage numéro 4268\n",
      "Affichage numéro 4269\n",
      "Affichage numéro 4270\n",
      "Affichage numéro 4271\n",
      "Affichage numéro 4272\n",
      "Affichage numéro 4273\n",
      "Affichage numéro 4274\n",
      "Affichage numéro 4275\n",
      "Affichage numéro 4276\n",
      "Affichage numéro 4277\n",
      "Affichage numéro 4278\n",
      "Affichage numéro 4279\n",
      "Affichage numéro 4280\n",
      "Affichage numéro 4281\n",
      "Affichage numéro 4282\n",
      "Affichage numéro 4283\n",
      "Affichage numéro 4284\n",
      "Affichage numéro 4285\n",
      "Affichage numéro 4286\n",
      "Affichage numéro 4287\n",
      "Affichage numéro 4288\n",
      "Affichage numéro 4289\n",
      "Affichage numéro 4290\n",
      "Affichage numéro 4291\n",
      "Affichage numéro 4292\n",
      "Affichage numéro 4293\n",
      "Affichage numéro 4294\n",
      "Affichage numéro 4295\n",
      "Affichage numéro 4296\n",
      "Affichage numéro 4297\n",
      "Affichage numéro 4298\n",
      "Affichage numéro 4299\n",
      "Affichage numéro 4300\n",
      "Affichage numéro 4301\n",
      "Affichage numéro 4302\n",
      "Affichage numéro 4303\n",
      "Affichage numéro 4304\n",
      "Affichage numéro 4305\n",
      "Affichage numéro 4306\n",
      "Affichage numéro 4307\n",
      "Affichage numéro 4308\n",
      "Affichage numéro 4309\n",
      "Affichage numéro 4310\n",
      "Affichage numéro 4311\n",
      "Affichage numéro 4312\n",
      "Affichage numéro 4313\n",
      "Affichage numéro 4314\n",
      "Affichage numéro 4315\n",
      "Affichage numéro 4316\n",
      "Affichage numéro 4317\n",
      "Affichage numéro 4318\n",
      "Affichage numéro 4319\n",
      "Affichage numéro 4320\n",
      "Affichage numéro 4321\n",
      "Affichage numéro 4322\n",
      "Affichage numéro 4323\n",
      "Affichage numéro 4324\n",
      "Affichage numéro 4325\n",
      "Affichage numéro 4326\n",
      "Affichage numéro 4327\n",
      "Affichage numéro 4328\n",
      "Affichage numéro 4329\n",
      "Affichage numéro 4330\n",
      "Affichage numéro 4331\n",
      "Affichage numéro 4332\n",
      "Affichage numéro 4333\n",
      "Affichage numéro 4334\n",
      "Affichage numéro 4335\n",
      "Affichage numéro 4336\n",
      "Affichage numéro 4337\n",
      "Affichage numéro 4338\n",
      "Affichage numéro 4339\n",
      "Affichage numéro 4340\n",
      "Affichage numéro 4341\n"
     ]
    }
   ],
   "source": [
    "import tkinter as tk\n",
    "\n",
    "cpt = 0\n",
    "def affichage():\n",
    "    global cpt\n",
    "    cpt += 1\n",
    "    print(\"Affichage numéro\", cpt)\n",
    "    racine.after(1000, affichage)\n",
    "\n",
    "racine = tk.Tk() # Création de la fenêtre racine\n",
    "affichage()\n",
    "racine.mainloop() # Lancement de la boucle principale"
   ]
  },
  {
   "cell_type": "code",
   "execution_count": 3,
   "metadata": {},
   "outputs": [],
   "source": [
    "import tkinter as tk\n",
    "\n",
    "def incremente():\n",
    "    \"Incrémente le compteur à chaque seconde\"\n",
    "    global compteur\n",
    "    compteur += 1\n",
    "    compteur_lbl['text'] = str(compteur)\n",
    "\n",
    "app = tk.Tk()\n",
    "compteur = 0\n",
    "compteur_lbl = tk.Label(app, text=str(compteur), font=(\"\", 16))\n",
    "compteur_lbl.grid(padx=8, pady=8)\n",
    "\n",
    "app.after(10000, incremente)\n",
    "app.mainloop()"
   ]
  },
  {
   "cell_type": "markdown",
   "metadata": {
    "slideshow": {
     "slide_type": "subslide"
    }
   },
   "source": [
    "**Déplacer une balle**\n",
    "\n",
    "---\n",
    "Modifier le programme suivant pour que la balle se déplace toute seule."
   ]
  },
  {
   "cell_type": "code",
   "execution_count": null,
   "metadata": {
    "slideshow": {
     "slide_type": "-"
    }
   },
   "outputs": [],
   "source": [
    "import tkinter as tk\n",
    "\n",
    "HEIGHT = 500\n",
    "WIDTH = 500\n",
    "\n",
    "def bouge_cercle():\n",
    "    canvas.move(cercle, 50, 50) # méthode qui déplace l'objet cercle\n",
    "\n",
    "racine = tk.Tk() # Création de la fenêtre racine\n",
    "bouton = tk.Button(text=\"déplace cercle\", \n",
    "                    command=bouge_cercle, font = (\"Helvetica\", \"30\")\n",
    "                  )\n",
    "bouton.grid(column=0, row=1)\n",
    "canvas = tk.Canvas(racine, bg=\"red\", height=HEIGHT, width=WIDTH)\n",
    "canvas.grid(column=0, row=0)\n",
    "# on récupère l'identifiant du cercle:\n",
    "cercle = canvas.create_oval((100, 100), (300, 300), fill=\"blue\", width=5, outline=\"cyan\") \n",
    "racine.mainloop() # Lancement de la boucle principale"
   ]
  },
  {
   "cell_type": "code",
   "execution_count": 38,
   "metadata": {
    "slideshow": {
     "slide_type": "notes"
    }
   },
   "outputs": [],
   "source": [
    "import tkinter as tk\n",
    "\n",
    "HEIGHT = 500\n",
    "WIDTH = 500\n",
    "\n",
    "def bouge_cercle():\n",
    "    canvas.move(cercle, 1, 1) # méthode qui déplace l'objet cercle\n",
    "    canvas.after(20, bouge_cercle)\n",
    "    \n",
    "racine = tk.Tk() # Création de la fenêtre racine\n",
    "canvas = tk.Canvas(racine, bg=\"red\", height=HEIGHT, width=WIDTH)\n",
    "canvas.grid(column=0, row=0)\n",
    "cercle = canvas.create_oval((100, 100), (300, 300), fill=\"blue\", width=5, outline=\"cyan\") \n",
    "bouge_cercle()\n",
    "racine.mainloop() # Lancement de la boucle principale"
   ]
  },
  {
   "cell_type": "markdown",
   "metadata": {
    "slideshow": {
     "slide_type": "slide"
    }
   },
   "source": [
    "## 6. Autres méthodes associées au widget canvas"
   ]
  },
  {
   "cell_type": "markdown",
   "metadata": {
    "slideshow": {
     "slide_type": "subslide"
    }
   },
   "source": [
    "**Méthode `.coords()`**\n",
    "\n",
    "---\n",
    "```python\n",
    "canvas.coords(objet)\n",
    "```\n",
    "retourne les coordonnées de l'objet, en général celle de la boîte englobante, sous la forme d'un tuple $(x_1, y_1, x_2, y_2)$\n",
    "\n",
    "```python\n",
    "canvas.coords(objet, x1, y1, x2, y2)\n",
    "```\n",
    "modifie les coordonnées de l'objet."
   ]
  },
  {
   "cell_type": "code",
   "execution_count": 4,
   "metadata": {
    "slideshow": {
     "slide_type": "fragment"
    }
   },
   "outputs": [
    {
     "output_type": "stream",
     "name": "stdout",
     "text": [
      "[100.0, 100.0, 300.0, 300.0]\n[300.0, 300.0, 500.0, 500.0]\n"
     ]
    }
   ],
   "source": [
    "import tkinter as tk\n",
    "\n",
    "racine = tk.Tk() # Création de la fenêtre racine\n",
    "canvas = tk.Canvas(racine, bg=\"red\", height=500, width=500)\n",
    "canvas.grid(column=0, row=0)\n",
    "cercle = canvas.create_oval((100, 100), (300, 300), fill=\"blue\", width=5, outline=\"cyan\") \n",
    "print(canvas.coords(cercle))\n",
    "canvas.coords(cercle, 300, 300, 500, 500) \n",
    "print(canvas.coords(cercle))\n",
    "racine.mainloop() # Lancement de la boucle principale"
   ]
  },
  {
   "cell_type": "markdown",
   "metadata": {
    "slideshow": {
     "slide_type": "subslide"
    }
   },
   "source": [
    "**Méthode `.itemconfigure()`**\n",
    "\n",
    "---\n",
    "```python\n",
    "canvas.itemconfigure(objet, param=new_value)\n",
    "```\n",
    "modifie le paramètre `param` de l'objet passé en argument."
   ]
  },
  {
   "cell_type": "code",
   "execution_count": 14,
   "metadata": {
    "slideshow": {
     "slide_type": "fragment"
    }
   },
   "outputs": [],
   "source": [
    "import tkinter as tk\n",
    "\n",
    "racine = tk.Tk() # Création de la fenêtre racine\n",
    "canvas = tk.Canvas(racine, bg=\"red\", height=500, width=500)\n",
    "canvas.grid(column=0, row=0)\n",
    "cercle = canvas.create_oval((100, 100), (300, 300), fill=\"blue\", width=5, outline=\"cyan\") \n",
    "canvas.itemconfigure(cercle, fill=\"white\") \n",
    "racine.mainloop() # Lancement de la boucle principale"
   ]
  },
  {
   "cell_type": "markdown",
   "metadata": {
    "slideshow": {
     "slide_type": "subslide"
    }
   },
   "source": [
    "**Méthode `.delete()`**\n",
    "\n",
    "---\n",
    "Permet de supprimer un objet graphique à partir de son identifiant."
   ]
  },
  {
   "cell_type": "code",
   "execution_count": 11,
   "metadata": {
    "slideshow": {
     "slide_type": "-"
    }
   },
   "outputs": [],
   "source": [
    "import tkinter as tk\n",
    "  \n",
    "cpt = 0\n",
    "\n",
    "def dessine_efface():\n",
    "    global cpt, cercle\n",
    "    cpt = 1 - cpt # vaut alternativement 0 et 1\n",
    "    if cpt == 0:\n",
    "        cercle = canvas.create_oval((100, 100), (400, 400), fill=\"blue\", width=5, outline=\"cyan\") \n",
    "    else:\n",
    "        canvas.delete(cercle)\n",
    "    canvas.after(1000, dessine_efface)\n",
    "        \n",
    "    \n",
    "racine = tk.Tk() # Création de la fenêtre racine\n",
    "canvas = tk.Canvas(racine, bg=\"red\", height=500, width=500)\n",
    "canvas.grid(column=0, row=0)\n",
    "cercle = canvas.create_oval((100, 100), (400, 400), fill=\"blue\", width=5, outline=\"cyan\") \n",
    "dessine_efface()\n",
    "racine.mainloop() # Lancement de la boucle principale"
   ]
  },
  {
   "cell_type": "markdown",
   "metadata": {
    "slideshow": {
     "slide_type": "subslide"
    }
   },
   "source": [
    "**Méthode `find_closest`**\n",
    "\n",
    "---\n",
    "```python\n",
    "canvas.find_closest(x, y)\n",
    "```\n",
    "Retourne une liste contenant l'identifiant des objets les plus proches du point $(x, y)$. En première position se trouve l'objet au-dessus des autres.\n"
   ]
  },
  {
   "cell_type": "code",
   "execution_count": 12,
   "metadata": {
    "slideshow": {
     "slide_type": "-"
    }
   },
   "outputs": [],
   "source": [
    "import tkinter as tk\n",
    "  \n",
    "def efface_objet_proche(event):\n",
    "    objet = canvas.find_closest(event.x, event.y)\n",
    "    canvas.delete(objet[0])\n",
    "    \n",
    "racine = tk.Tk() # Création de la fenêtre racine\n",
    "canvas = tk.Canvas(racine, bg=\"red\", height=500, width=500)\n",
    "canvas.grid(column=0, row=0)\n",
    "cercle = canvas.create_oval((100, 100), (200, 200), fill=\"blue\") \n",
    "carre = canvas.create_rectangle((300, 300), (400, 400), fill=\"yellow\") \n",
    "canvas.bind(\"<Button-1>\", efface_objet_proche)\n",
    "racine.mainloop() # Lancement de la boucle principale"
   ]
  },
  {
   "cell_type": "code",
   "execution_count": null,
   "metadata": {
    "slideshow": {
     "slide_type": "subslide"
    }
   },
   "outputs": [],
   "source": []
  }
 ],
 "metadata": {
  "celltoolbar": "Diaporama",
  "kernelspec": {
   "display_name": "Python 3",
   "language": "python",
   "name": "python3"
  },
  "language_info": {
   "codemirror_mode": {
    "name": "ipython",
    "version": 3
   },
   "file_extension": ".py",
   "mimetype": "text/x-python",
   "name": "python",
   "nbconvert_exporter": "python",
   "pygments_lexer": "ipython3",
   "version": "3.8.5-final"
  }
 },
 "nbformat": 4,
 "nbformat_minor": 1
}