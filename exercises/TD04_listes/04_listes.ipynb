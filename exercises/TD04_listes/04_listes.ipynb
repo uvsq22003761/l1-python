{
 "cells": [
  {
   "cell_type": "markdown",
   "metadata": {},
   "source": [
    "# TD 4: Listes"
   ]
  },
  {
   "cell_type": "markdown",
   "metadata": {},
   "source": [
    "---\n",
    "\n",
    "## 1. Débuts avec les listes\n",
    "\n",
    "Dans cette partie, il faut écrire les réponses directement dans le notebook. En plus du cours, n'hésitez pas à consulter la documentation (tutoriel) Python sur les listes [ici (introduction aux listes)](https://docs.python.org/fr/3.6/tutorial/introduction.html#lists) et [ici (complément sur les listes)] (https://docs.python.org/fr/3/tutorial/datastructures.html#more-on-lists).\n",
    "\n",
    "1. Créer la liste `3, 5, 10`, l'affecter à une variable, puis l'afficher."
   ]
  },
  {
   "cell_type": "code",
   "execution_count": 79,
   "metadata": {},
   "outputs": [
    {
     "output_type": "stream",
     "name": "stdout",
     "text": [
      "[3, 5, 10]\n"
     ]
    }
   ],
   "source": [
    "list = [3, 5, 10]\n",
    "\n",
    "print(list)"
   ]
  },
  {
   "cell_type": "markdown",
   "metadata": {},
   "source": [
    "2. Ajouter ensuite 12 et 17 à la fin puis afficher à nouveau la liste."
   ]
  },
  {
   "cell_type": "code",
   "execution_count": 3,
   "metadata": {},
   "outputs": [
    {
     "output_type": "stream",
     "name": "stdout",
     "text": [
      "[3, 5, 10, 12, 17]\n"
     ]
    }
   ],
   "source": [
    "list.append(12)\n",
    "list.append(17)\n",
    "\n",
    "print(list)"
   ]
  },
  {
   "cell_type": "markdown",
   "metadata": {},
   "source": [
    "3. Changer le 10 en -7."
   ]
  },
  {
   "cell_type": "code",
   "execution_count": 4,
   "metadata": {},
   "outputs": [
    {
     "output_type": "stream",
     "name": "stdout",
     "text": [
      "[3, 5, -7, 12, 17]\n"
     ]
    }
   ],
   "source": [
    "list[2] = -7\n",
    "print(list)"
   ]
  },
  {
   "cell_type": "markdown",
   "metadata": {},
   "source": [
    "4. Avec une boucle `for`, écrire le double de chaque élément de la liste. Cela doit afficher `[6, 10, -14, 24, 34]`. La liste doit être modifiée."
   ]
  },
  {
   "cell_type": "code",
   "execution_count": 5,
   "metadata": {},
   "outputs": [
    {
     "output_type": "stream",
     "name": "stdout",
     "text": [
      "[6, 10, -14, 24, 34]\n"
     ]
    }
   ],
   "source": [
    "for i in range(len(list)):\n",
    "    list[i] = list[i]*2\n",
    "print (list)"
   ]
  },
  {
   "cell_type": "code",
   "execution_count": null,
   "metadata": {},
   "outputs": [],
   "source": []
  },
  {
   "cell_type": "markdown",
   "metadata": {},
   "source": [
    "5. A l'aide d'une boucle `for`, ajouter  la valeur `i` à l'élément d'indice `i` de la liste. Cela doit afficher `[6, 11, -12, 27, 38]`. La liste doit être modifiée."
   ]
  },
  {
   "cell_type": "code",
   "execution_count": 6,
   "metadata": {},
   "outputs": [
    {
     "output_type": "stream",
     "name": "stdout",
     "text": [
      "[6, 11, -12, 27, 38]\n"
     ]
    }
   ],
   "source": [
    "for i in range (len(list)):\n",
    "    list[i] += i\n",
    "print(list)"
   ]
  },
  {
   "cell_type": "markdown",
   "metadata": {},
   "source": [
    "6. Tirer 10 nombres à 2 chiffres au hasard et les mettre dans une nouvelle liste (vide au départ), puis afficher la somme des entiers de la liste et le plus grand de ces entiers."
   ]
  },
  {
   "cell_type": "code",
   "execution_count": 7,
   "metadata": {},
   "outputs": [
    {
     "output_type": "stream",
     "name": "stdout",
     "text": [
      "[27, 92, 50, 57, 61, 16, 35, 68, 48, 79]\n"
     ]
    }
   ],
   "source": [
    "import random\n",
    "\n",
    "list2 = []\n",
    "\n",
    "for i in range (0, 10):\n",
    "    a = (random.randint(10,99))\n",
    "    list2.append(a)\n",
    "\n",
    "print(list2)"
   ]
  },
  {
   "cell_type": "markdown",
   "metadata": {},
   "source": [
    "7. A partir de la liste choisie au hasard, créer une liste qui contient les éléments pairs et une deuxième liste qui contient les éléments impairs."
   ]
  },
  {
   "cell_type": "code",
   "execution_count": 8,
   "metadata": {},
   "outputs": [
    {
     "output_type": "stream",
     "name": "stdout",
     "text": [
      "[27, 92, 50, 57, 61, 16, 35, 68, 48, 79]\n[92, 50, 16, 68, 48]\n[27, 57, 61, 35, 79]\n"
     ]
    }
   ],
   "source": [
    "list2_pairs = []\n",
    "list2_impairs = []\n",
    "print(list2)\n",
    "\n",
    "for i in range (len(list2)):\n",
    "    if list2[i] % 2 == 0:\n",
    "        list2_pairs.append(list2[i])\n",
    "\n",
    "for i in range (len(list2)):\n",
    "    if list2[i] % 2 != 0:\n",
    "        list2_impairs.append(list2[i])\n",
    "\n",
    "\n",
    "print(list2_pairs)\n",
    "print(list2_impairs)"
   ]
  },
  {
   "cell_type": "markdown",
   "metadata": {},
   "source": [
    "8. Trier la liste choisie au hasard par ordre croissant en modifiant la liste."
   ]
  },
  {
   "cell_type": "code",
   "execution_count": 9,
   "metadata": {},
   "outputs": [
    {
     "output_type": "stream",
     "name": "stdout",
     "text": [
      "[16, 27, 35, 48, 50, 57, 61, 68, 79, 92]\n"
     ]
    }
   ],
   "source": [
    "list2 = sorted(list2)\n",
    "print(list2)"
   ]
  },
  {
   "cell_type": "markdown",
   "metadata": {},
   "source": [
    "9. Supprimer le plus petit et le plus grand élément de la liste triée."
   ]
  },
  {
   "cell_type": "code",
   "execution_count": 10,
   "metadata": {},
   "outputs": [
    {
     "output_type": "stream",
     "name": "stdout",
     "text": [
      "[27, 35, 48, 50, 57, 61, 68, 79]\n"
     ]
    }
   ],
   "source": [
    "del list2[0]\n",
    "del list2[8]\n",
    "print(list2)"
   ]
  },
  {
   "cell_type": "markdown",
   "metadata": {},
   "source": [
    "10. Créer la liste des entiers de 1 jusqu'à 52. Ces entiers représentent les cartes d'un paquet de 52 cartes."
   ]
  },
  {
   "cell_type": "code",
   "execution_count": 11,
   "metadata": {},
   "outputs": [
    {
     "output_type": "stream",
     "name": "stdout",
     "text": [
      "[1, 2, 3, 4, 5, 6, 7, 8, 9, 10, 11, 12, 13, 14, 15, 16, 17, 18, 19, 20, 21, 22, 23, 24, 25, 26, 27, 28, 29, 30, 31, 32, 33, 34, 35, 36, 37, 38, 39, 40, 41, 42, 43, 44, 45, 46, 47, 48, 49, 50, 51, 52]\n"
     ]
    }
   ],
   "source": [
    "list_cartes = []\n",
    "\n",
    "for i in range(1, 53):\n",
    "    list_cartes.append(i)\n",
    "\n",
    "print(list_cartes)"
   ]
  },
  {
   "cell_type": "markdown",
   "metadata": {},
   "source": [
    " 11. Couper le jeu de carte revient à choisir un indice `i` entre 0 et 51, et à passer toutes les cartes allant des indices 0 à i-1 à la suite des cartes qui vont des indices i à 51. Ecrire le code qui effectue une coupe choisie au hasard."
   ]
  },
  {
   "cell_type": "code",
   "execution_count": 12,
   "metadata": {},
   "outputs": [
    {
     "output_type": "stream",
     "name": "stdout",
     "text": [
      "[42, 43, 44, 45, 46, 47, 48, 49, 50, 51, 52]\n"
     ]
    }
   ],
   "source": [
    "import random\n",
    "\n",
    "x = random.randint(0, 51)\n",
    "del list_cartes[0 : x-1]\n",
    "\n",
    "#print (x)\n",
    "print(list_cartes)"
   ]
  },
  {
   "cell_type": "markdown",
   "metadata": {},
   "source": [
    "---\n",
    "\n",
    "## 2. Problème de Syracuse\n",
    "\n",
    "Cette partie est à traiter dans un script que vous pouvez appeler, par exemple, `syracuse.py`.\n",
    "\n",
    "En partant d'un entier `n` de départ, on définit une suite d'entiers en obtenant chaque nouveau terme à partir du précédent soit en le divisant par 2 s'il est pair, soit en le multipliant par 3 et en ajoutant 1 s'il est impair. \n",
    "\n",
    "1. Sans écrire de programme, calculer les premières valeurs de la suite en chosissant `n = 3`.\n",
    "\n",
    "2. Ecrire la fonction qui, à partir d'un entier initial, renvoie la liste des valeurs successives jusqu'à ce que la valeur `1` soit atteinte (le dernier élément de la liste est donc toujours 1)."
   ]
  },
  {
   "cell_type": "code",
   "execution_count": null,
   "metadata": {},
   "outputs": [],
   "source": [
    "def syracuse(n):\n",
    "    \"\"\" Retourne la liste des valeurs de la suite en partant de n jusqu'à 1 \"\"\"\n",
    "    pass\n",
    "\n",
    "print(syracuse(3))"
   ]
  },
  {
   "cell_type": "code",
   "execution_count": null,
   "metadata": {},
   "outputs": [],
   "source": [
    "3\n",
    "10\n",
    "5\n",
    "16\n",
    "8\n",
    "4\n",
    "2\n",
    "1\n",
    "4\n",
    "2\n",
    "1"
   ]
  },
  {
   "cell_type": "markdown",
   "metadata": {},
   "source": [
    "3. La conjecture de Collatz (ou problème de Syracuse) affirme que, quel que soit l’entier `n` que l’on choisisse au départ, on finit toujours par arriver à 1 (ce résultat est une *conjecture*, c'est-à-dire qu'il n'a pas été démontré, mais qu'il n'existe pas de contre-exemple connu). Écrire une fonction qui, en appelant la fonction précédente, va vérifier si la conjecture est vraie pour `n` de 1 à `n_max`, où `n_max` est un paramètre de la fonction. \n",
    "\n",
    "*Remarque*: si tout se passe bien, la fonction doit juste se terminer et renvoyer `True` par exemple. Sinon, c’est qu’on sera entré dans une boucle infinie."
   ]
  },
  {
   "cell_type": "code",
   "execution_count": null,
   "metadata": {
    "tags": []
   },
   "outputs": [],
   "source": [
    "def testeConjecture(n_max):\n",
    "    \"\"\" Teste la conjecture de Collatz pour toutes les valeurs de 2 à n_max \"\"\"\n",
    "    pass\n",
    "\n",
    "print(testeConjecture(10000))"
   ]
  },
  {
   "cell_type": "markdown",
   "metadata": {},
   "source": [
    "4. On appelle *temps de vol* de l’entier `n` le nombre d’étapes pour aller de `n` jusqu’à 1. Le temps de vol de 1 est 0, le temps de vol de 3 est 7. Écrire une fonction qui, étant donné un paramètre `n`, renvoie son temps de vol."
   ]
  },
  {
   "cell_type": "code",
   "execution_count": null,
   "metadata": {},
   "outputs": [],
   "source": [
    "def tempsVol(n):\n",
    "    \"\"\" Retourne le temps de vol de n \"\"\"\n",
    "    pass\n",
    "\n",
    "print(\"Le temps de vol de\", 3, \"est\", tempsVol(3))"
   ]
  },
  {
   "cell_type": "markdown",
   "metadata": {},
   "source": [
    "5. Ecrire une fonction qui, étant donné un paramètre `n_max` renvoie la liste des temps de vol de tous les entiers de 1 à `n_max`. *Indication*: utiliser une liste en compréhension."
   ]
  },
  {
   "cell_type": "code",
   "execution_count": null,
   "metadata": {},
   "outputs": [],
   "source": [
    "def tempsVolListe(n_max):\n",
    "    \"\"\" Retourne la liste de tous les temps de vol de 1 à n_max \"\"\"\n",
    "    \n",
    "\n",
    "print(tempsVolListe(100))"
   ]
  },
  {
   "cell_type": "markdown",
   "metadata": {},
   "source": [
    "6. Déterminer quel entier entre 1 et 10000 a le plus grand temps de vol (réponse 6171 qui a le temps de vol 261)."
   ]
  },
  {
   "cell_type": "markdown",
   "metadata": {},
   "source": [
    "7. L’altitude maximale de l'entier `n` est la plus grande valeur par laquelle passe `n` au cours de son vol. Déterminer quel entier entre 1 et 10000 a la plus grande altitude maximale (réponse 27114424, atteint par l'entier 9663). Ne pas hésiter à écrire de nouvelles fonctions pour cela."
   ]
  },
  {
   "cell_type": "markdown",
   "metadata": {},
   "source": [
    "---\n",
    "\n",
    "## 3. Carré magique\n",
    "\n",
    "*Définition* extraite de [l'article Wikipedia sur le carré magique](https://fr.wikipedia.org/wiki/Carr%C3%A9_magique_(math%C3%A9matiques)): en mathématiques, un carré magique d’ordre $n$ est composé de $n^2$ entiers strictement positifs, écrits sous la forme d’un tableau carré. Ces nombres sont disposés de sorte que leurs sommes sur chaque rangée, sur chaque colonne et sur chaque diagonale principale soient égales. On nomme alors *constante magique* la valeur de ces sommes. \n",
    "\n",
    "Un exemple de carré magique:\n",
    "\n",
    "$$\\begin{bmatrix} 4 & 14 & 15 & 1 \\\\ 9 & 7 & 6 & 12 \\\\ 5 & 11 & 10 & 8 \\\\ 16 & 2 & 3 & 13 \\end{bmatrix}$$\n",
    "\n",
    "1. Sans écrire de programme, vérifier qu'il s'agit bien d'un carré magique, et donner sa constante magique.\n",
    "\n",
    "Les questions qui suivent doivent être traitées dans un script, qui peut s'appeler `carre_magique.py`. Pensez à utiliser [PythonTutor](http://pythontutor.com/) et les outils de programmation pour résoudre les problèmes qui pourraient survenir.\n",
    "\n",
    "2. Créer une liste à deux dimensions affectée à  la variable `carre_mag` contenant ce carré magique."
   ]
  },
  {
   "cell_type": "markdown",
   "metadata": {},
   "source": [
    "3. Créer une deuxième liste affectée à la variable `carre_pas_mag` qui ne soit pas magique à partir du carré magique en changeant le 3 en 7. "
   ]
  },
  {
   "cell_type": "markdown",
   "metadata": {},
   "source": [
    "4. Créer une fonction qui affiche la liste comme un carré."
   ]
  },
  {
   "cell_type": "code",
   "execution_count": null,
   "metadata": {},
   "outputs": [],
   "source": [
    "def afficheCarre(carre):\n",
    "    \"\"\" Affiche la liste à 2 dimensions carre comme un carré\"\"\"\n",
    "    \n",
    "    pass\n",
    "\n",
    "afficheCarre(carre_mag)\n",
    "afficheCarre(carre_pas_mag)\n"
   ]
  },
  {
   "cell_type": "markdown",
   "metadata": {},
   "source": [
    "5. Ecrire une fonction qui teste si les lignes du carré ont toutes la même somme. Cette fonction renvoie cette somme si c'est le cas, et `-1` sinon."
   ]
  },
  {
   "cell_type": "code",
   "execution_count": null,
   "metadata": {},
   "outputs": [],
   "source": [
    "def testLignesEgales(carre):\n",
    "    \"\"\" Renvoie la somme des éléments d'une ligne de la liste 2D carre si toutes les lignes ont la même somme, et -1 sinon \"\"\"\n",
    "    pass\n",
    "\n",
    "print(testLignesEgales(carre_mag))\n",
    "print(testLignesEgales(carre_pas_mag))\n"
   ]
  },
  {
   "cell_type": "markdown",
   "metadata": {},
   "source": [
    "6. Même question mais en testant les colonnes."
   ]
  },
  {
   "cell_type": "code",
   "execution_count": null,
   "metadata": {},
   "outputs": [],
   "source": [
    "def testColonnesEgales(carre):\n",
    "    \"\"\" Renvoie la somme des éléments d'une colonne de la liste 2D carre si toutes les colonnes ont la même somme, et -1 sinon \"\"\"\n",
    "    pass\n",
    "\n",
    "print(testColonnesEgales(carre_mag))\n",
    "print(testColonnesEgales(carre_pas_mag))"
   ]
  },
  {
   "cell_type": "markdown",
   "metadata": {},
   "source": [
    "7. Même question mais en testant les 2 diagonales."
   ]
  },
  {
   "cell_type": "code",
   "execution_count": null,
   "metadata": {},
   "outputs": [],
   "source": [
    "def testDiagonalesEgales(carre):\n",
    "    \"\"\" Renvoie la somme des éléments d'une diagonale de la liste 2D carre si les 2 diagonales ont la même somme, et -1 sinon \"\"\"\n",
    "    pass\n",
    "\n",
    "print(testDiagonalesEgales(carre_mag))\n",
    "print(testDiagonalesEgales(carre_pas_mag))"
   ]
  },
  {
   "cell_type": "markdown",
   "metadata": {},
   "source": [
    "8. Créer une fonction qui teste si un carré est magique. Elle retourne `True` si c'est le cas et `False` sinon."
   ]
  },
  {
   "cell_type": "code",
   "execution_count": null,
   "metadata": {},
   "outputs": [],
   "source": [
    "def estCarreMagique(carre):\n",
    "    \"\"\" Renvoie True si c'est un carre magique et False sinon\"\"\"\n",
    "    pass\n",
    "\n",
    "print(estCarreMagique(carre_mag))\n",
    "print(estCarreMagique(carre_pas_mag))"
   ]
  },
  {
   "cell_type": "markdown",
   "metadata": {},
   "source": [
    "9. Un carré d'ordre $n$ est *normal* s'il contient tous les entiers de 1 à $n^2$. Ecrire une fonction qui teste si un carré est normal (pas nécessairement magique)."
   ]
  },
  {
   "cell_type": "code",
   "execution_count": null,
   "metadata": {},
   "outputs": [],
   "source": [
    "def estNormal(carre):\n",
    "    \"\"\" Retourne True si contient toutes les valeurs de 1 à n^2 où n est la taille \n",
    "        du carré, et False sinon \"\"\"\n",
    "    pass\n",
    "\n",
    "print(estNormal(carre_mag))\n",
    "print(estNormal(carre_pas_mag))"
   ]
  },
  {
   "cell_type": "code",
   "execution_count": 5,
   "metadata": {},
   "outputs": [
    {
     "output_type": "stream",
     "name": "stdout",
     "text": [
      "[22, 23, 20, 21, 26, 27, 24, 25, 30, 31, 28, 29, 34, 35, 32, 33, 38, 39, 36, 37, 42]\n[23, 22, 21, 20, 27, 26, 25, 24, 31, 30, 29, 28, 35, 34, 33, 32, 39, 38, 37, 36, 43]\n"
     ]
    }
   ],
   "source": [
    "#Entrainement\n",
    "\n",
    "L = []\n",
    "for i in range (20, 41):\n",
    "    L.append(i^2)\n",
    "\n",
    "print (L)\n",
    "\n",
    "M = []\n",
    "for i in range (20, 41):\n",
    "    M.append(i^3)\n",
    "\n",
    "print (M)"
   ]
  },
  {
   "cell_type": "code",
   "execution_count": 15,
   "metadata": {},
   "outputs": [
    {
     "output_type": "stream",
     "name": "stdout",
     "text": [
      "   0   2   4   6   8  10  12  14  16  18  20  22  24  26  28\n   0   3   6   9  12  15  18  21  24  27  30  33  36  39  42\n   0   5  10  15  20  25  30  35  40  45  50  55  60  65  70\n   0   7  14  21  28  35  42  49  56  63  70  77  84  91  98\n   0  11  22  33  44  55  66  77  88  99 110 121 132 143 154\n   0  13  26  39  52  65  78  91 104 117 130 143 156 169 182\n   0  17  34  51  68  85 102 119 136 153 170 187 204 221 238\n   0  19  38  57  76  95 114 133 152 171 190 209 228 247 266\n"
     ]
    }
   ],
   "source": [
    "nt = [2, 3, 5, 7, 11, 13, 17, 19]\n",
    "\n",
    "def multiplication(m, n):\n",
    "    ch = \"\"\n",
    "    for i in range (n):\n",
    "        v = m*i\n",
    "        ch = ch + \"%4d\" % (v)\n",
    "    return ch\n",
    "\n",
    "    \n",
    "for a in nt:\n",
    "    print(multiplication(a, 15))\n"
   ]
  },
  {
   "cell_type": "code",
   "execution_count": 18,
   "metadata": {},
   "outputs": [
    {
     "output_type": "stream",
     "name": "stdout",
     "text": [
      "1 2 3 5 8 13 21 34 55 89 "
     ]
    }
   ],
   "source": [
    "a, b, c = 1, 1, 1\n",
    "while c < 11 :\n",
    "    print(b, end =\" \")\n",
    "    a, b, c = b, a+b, c+1"
   ]
  },
  {
   "cell_type": "code",
   "execution_count": null,
   "metadata": {},
   "outputs": [],
   "source": []
  },
  {
   "cell_type": "code",
   "execution_count": 5,
   "metadata": {},
   "outputs": [
    {
     "output_type": "stream",
     "name": "stdout",
     "text": [
      "[31, 'Janvier', 28, 'Février', 31, 'Mars', 30, 'Avril', 31, 'Mai', 30, 'Juin', 31, 'Juillet', 31, 'Aout', 30, 'Septembre', 31, 'Octobre', 30, 'Novembre', 31, 'Décembre']\n"
     ]
    }
   ],
   "source": [
    "#Entrainement\n",
    "\n",
    "t1 = [31, 28, 31, 30, 31, 30, 31, 31, 30, 31, 30, 31]\n",
    "t2 = [\"Janvier\", \"Février\", \"Mars\", \"Avril\", \"Mai\", \"Juin\", \"Juillet\", \"Aout\", \"Septembre\", \"Octobre\", \"Novembre\", \"Décembre\"]\n",
    "t3= []\n",
    "\n",
    "for i in range(0, 12):\n",
    "    t3.append(t1[i])\n",
    "    t3.append(t2[i])\n",
    "\n",
    "print (t3)\n"
   ]
  },
  {
   "cell_type": "code",
   "execution_count": 7,
   "metadata": {},
   "outputs": [
    {
     "output_type": "stream",
     "name": "stdout",
     "text": [
      "Janvier Février Mars Avril Mai Juin Juillet Aout Septembre Octobre Novembre Décembre "
     ]
    }
   ],
   "source": [
    "t2 = [\"Janvier\", \"Février\", \"Mars\", \"Avril\", \"Mai\", \"Juin\", \"Juillet\", \"Aout\", \"Septembre\", \"Octobre\", \"Novembre\", \"Décembre\"]\n",
    "\n",
    "for i in range(0, 12):\n",
    "    print(t2[i], end=\" \")"
   ]
  },
  {
   "cell_type": "code",
   "execution_count": 9,
   "metadata": {},
   "outputs": [
    {
     "output_type": "stream",
     "name": "stdout",
     "text": [
      "75\n"
     ]
    }
   ],
   "source": [
    "t4 = [32, 5, 12, 8, 3, 75, 2, 15]\n",
    "print(max(t4))"
   ]
  },
  {
   "cell_type": "code",
   "execution_count": 19,
   "metadata": {},
   "outputs": [
    {
     "output_type": "stream",
     "name": "stdout",
     "text": [
      "[32, 12, 8, 2]\n[5, 3, 75, 15]\n"
     ]
    }
   ],
   "source": [
    "#trier liste en nombre pair et impair\n",
    "\n",
    "t4 = [32, 5, 12, 8, 3, 75, 2, 15]\n",
    "tp = []\n",
    "ti = []\n",
    "\n",
    "for i in range (len(t4)):\n",
    "    if t4[i] % 2 == 0:\n",
    "        tp.append(t4[i])\n",
    "    else:\n",
    "        ti.append(t4[i])\n",
    "\n",
    "print (tp)\n",
    "print (ti)"
   ]
  },
  {
   "cell_type": "code",
   "execution_count": 20,
   "metadata": {},
   "outputs": [
    {
     "output_type": "stream",
     "name": "stdout",
     "text": [
      "['Jean', 'Sonia']\n['Maximilien', 'Brigitte', 'Jean-Pierre', 'Sandra']\n"
     ]
    }
   ],
   "source": [
    "tnoms = [\"Jean\", \"Maximilien\", \"Brigitte\", \"Sonia\", \"Jean-Pierre\", \"Sandra\"]\n",
    "t_moins_de_6 = []\n",
    "t_plus_de_6_ou_6 = []\n",
    "\n",
    "for i in range (len(tnoms)):\n",
    "    if len(tnoms[i]) < 6:\n",
    "        t_moins_de_6.append(tnoms[i])\n",
    "    else:\n",
    "        t_plus_de_6_ou_6.append(tnoms[i])\n",
    "\n",
    "print(t_moins_de_6)\n",
    "print(t_plus_de_6_ou_6)"
   ]
  },
  {
   "cell_type": "code",
   "execution_count": 21,
   "metadata": {},
   "outputs": [
    {
     "output_type": "stream",
     "name": "stdout",
     "text": [
      "[400, 441, 484, 529, 576, 625, 676, 729, 784, 841, 900, 961, 1024, 1089, 1156, 1225, 1296, 1369, 1444, 1521, 1600]\n[8000, 9261, 10648, 12167, 13824, 15625, 17576, 19683, 21952, 24389, 27000, 29791, 32768, 35937, 39304, 42875, 46656, 50653, 54872, 59319, 64000]\n"
     ]
    }
   ],
   "source": [
    "#Écrivez un script qui génère la liste des carrés et des cubes des nombres de 20 à 40\n",
    "\n",
    "liste_carre = []\n",
    "liste_cube = []\n",
    "\n",
    "for i in range(20, 41):\n",
    "    carre = i**2\n",
    "    liste_carre.append(carre)\n",
    "    cube = i**3\n",
    "    liste_cube.append(cube)\n",
    "\n",
    "print(liste_carre)\n",
    "print(liste_cube)\n"
   ]
  },
  {
   "cell_type": "code",
   "execution_count": 25,
   "metadata": {},
   "outputs": [
    {
     "output_type": "stream",
     "name": "stdout",
     "text": [
      "[0.0, 0.08715574274765817, 0.17364817766693033, 0.25881904510252074, 0.3420201433256687, 0.42261826174069944, 0.49999999999999994, 0.573576436351046, 0.6427876096865393, 0.7071067811865476, 0.766044443118978, 0.8191520442889918, 0.8660254037844386, 0.9063077870366499, 0.9396926207859083, 0.9659258262890683, 0.984807753012208, 0.9961946980917455, 1.0]\n[1.0, 0.9961946980917455, 0.984807753012208, 0.9659258262890683, 0.9396926207859084, 0.9063077870366499, 0.8660254037844387, 0.8191520442889918, 0.766044443118978, 0.7071067811865476, 0.6427876096865394, 0.573576436351046, 0.5000000000000001, 0.42261826174069944, 0.3420201433256688, 0.25881904510252074, 0.17364817766693041, 0.08715574274765814, 6.123233995736766e-17]\n"
     ]
    }
   ],
   "source": [
    "from math import *\n",
    "\n",
    "lsinus = []\n",
    "lcos = []\n",
    "\n",
    "for i in range (0, 91, 5):\n",
    "    angle = (i*2*(pi))/360\n",
    "    sinus = sin(angle)\n",
    "    cosinus = cos(angle)\n",
    "    lsinus.append(sinus)\n",
    "    lcos.append(cosinus)\n",
    "\n",
    "print(lsinus)\n",
    "print(lcos)"
   ]
  },
  {
   "cell_type": "code",
   "execution_count": 27,
   "metadata": {},
   "outputs": [
    {
     "output_type": "stream",
     "name": "stdout",
     "text": [
      "2 3 5 7 11 13 17 19 4 6 10 14 22 26 34 38 6 9 15 21 33 39 51 57 8 12 20 28 44 52 68 76 10 15 25 35 55 65 85 95 12 18 30 42 66 78 102 114 14 21 35 49 77 91 119 133 16 24 40 56 88 104 136 152 18 27 45 63 99 117 153 171 20 30 50 70 110 130 170 190 22 33 55 77 121 143 187 209 24 36 60 84 132 156 204 228 26 39 65 91 143 169 221 247 28 42 70 98 154 182 238 266 30 45 75 105 165 195 255 285 "
     ]
    }
   ],
   "source": [
    "l_multiple =  [2, 3, 5, 7, 11, 13, 17, 19]\n",
    "\n",
    "for i in range(1, 16):\n",
    "    for j in range(8):\n",
    "        print(l_multiple[j]*i, end=\" \")"
   ]
  },
  {
   "cell_type": "code",
   "execution_count": 33,
   "metadata": {},
   "outputs": [
    {
     "output_type": "stream",
     "name": "stdout",
     "text": [
      "Le prénom Jean comporte 4 caractères.\nLe prénom Maximilien comporte 10 caractères.\nLe prénom Brigitte comporte 8 caractères.\nLe prénom Sonia comporte 5 caractères.\nLe prénom Jean-Pierre comporte 11 caractères.\nLe prénom Sandra comporte 6 caractères.\n"
     ]
    }
   ],
   "source": [
    "tnoms = [\"Jean\", \"Maximilien\", \"Brigitte\", \"Sonia\", \"Jean-Pierre\", \"Sandra\"]\n",
    "\n",
    "for i in range (len(tnoms)):\n",
    "    print(\"Le prénom\", tnoms[i], \"comporte\", len(tnoms[i]), \"caractères.\")"
   ]
  },
  {
   "cell_type": "code",
   "execution_count": 38,
   "metadata": {},
   "outputs": [
    {
     "output_type": "stream",
     "name": "stdout",
     "text": [
      "[3, 65, 8, 2, 56, 90]\n"
     ]
    }
   ],
   "source": [
    "l = [3, 65, 8, 2, 56, 56, 3, 90, 2]\n",
    "l_sans_doublon = []\n",
    "\n",
    "for i in l:\n",
    "    if i not in l_sans_doublon:\n",
    "        l_sans_doublon.append(i)\n",
    "\n",
    "print(l_sans_doublon)"
   ]
  },
  {
   "cell_type": "code",
   "execution_count": 56,
   "metadata": {},
   "outputs": [
    {
     "output_type": "stream",
     "name": "stdout",
     "text": [
      "boomer\n"
     ]
    }
   ],
   "source": [
    "#Écrivez un script qui recherche le mot le plus long dans une phrase donnée (l’utilisateur du programme doit pouvoir entrer une phrase de son choix).\n",
    "\n",
    "phrase = str(input(\"Entrez votre phrase\"))\n",
    "\n",
    "l = phrase.split()\n",
    "mot_long = \"\"\n",
    "\n",
    "for i in l:\n",
    "    if len(i) > len(mot_long):\n",
    "        mot_long = i\n",
    "\n",
    "    \n",
    "print(mot_long)"
   ]
  },
  {
   "cell_type": "code",
   "execution_count": 73,
   "metadata": {},
   "outputs": [
    {
     "output_type": "stream",
     "name": "stdout",
     "text": [
      "['Clara', 'Clélie', 'Dorian', 'Gersande', 'Julie', 'Laura', 'Lorenzo', 'Léo', 'Mael']\n"
     ]
    }
   ],
   "source": [
    "noms = [\"Julie\", \"Léo\", \"Clara\", \"Mael\", \"Dorian\", \"Gersande\", \"Lorenzo\", \"Laura\", \"Clélie\"]\n",
    "\n",
    "noms.sort()\n",
    "\n",
    "print(noms)"
   ]
  },
  {
   "source": [],
   "cell_type": "markdown",
   "metadata": {}
  },
  {
   "cell_type": "code",
   "execution_count": 76,
   "metadata": {},
   "outputs": [
    {
     "output_type": "stream",
     "name": "stdout",
     "text": [
      "2\n['Janvier', 31, 'Février', 28, 'Mars', 31, 'Avril', 30, 'Mai', 31, 'Juin', 30, 'Juillet', 31, 'Aout', 31, 'Sept', 30, 'Oct', 31, 'Nov', 30, 'Dec', 31]\n"
     ]
    }
   ],
   "source": [
    "t1 = [31,28,31,30,31,30,31,31,30,31,30,31]\n",
    "t2 = [\"Janvier\", \"Février\", \"Mars\", \"Avril\", \"Mai\", \"Juin\", \"Juillet\", \"Aout\", \"Sept\", \"Oct\", \"Nov\", \"Dec\"]\n",
    "\n",
    "#12 mois, donc à la fin 24 indices\n",
    "\n",
    "x = 1\n",
    "\n",
    "for i in range(0, len(t1)):\n",
    "    t2.insert(x, t1[i])\n",
    "    x += 2\n",
    "\n",
    "index = t2.index(\"Février\")\n",
    "\n",
    "\n",
    "print(index)\n",
    "print(t2)"
   ]
  },
  {
   "cell_type": "code",
   "execution_count": 84,
   "metadata": {},
   "outputs": [
    {
     "output_type": "error",
     "ename": "SyntaxError",
     "evalue": "invalid syntax (<ipython-input-84-c58f90a9d708>, line 2)",
     "traceback": [
      "\u001b[1;36m  File \u001b[1;32m\"<ipython-input-84-c58f90a9d708>\"\u001b[1;36m, line \u001b[1;32m2\u001b[0m\n\u001b[1;33m    t7.del[1]\u001b[0m\n\u001b[1;37m       ^\u001b[0m\n\u001b[1;31mSyntaxError\u001b[0m\u001b[1;31m:\u001b[0m invalid syntax\n"
     ]
    }
   ],
   "source": []
  },
  {
   "cell_type": "code",
   "execution_count": 88,
   "metadata": {},
   "outputs": [
    {
     "output_type": "execute_result",
     "data": {
      "text/plain": [
       "6"
      ]
     },
     "metadata": {},
     "execution_count": 88
    }
   ],
   "source": [
    "def somme(l1, l2):\n",
    "    a = 0\n",
    "    for i in range(len(l1)):\n",
    "        a += l1[i]\n",
    "    for i in range (len(l2)):\n",
    "        a += l2[i]\n",
    "\n",
    "    return a\n",
    "\n",
    "somme([1,2], [3])"
   ]
  },
  {
   "cell_type": "code",
   "execution_count": 110,
   "metadata": {},
   "outputs": [
    {
     "output_type": "stream",
     "name": "stdout",
     "text": [
      "[1, 2, 3, 4, 5, 6, 7, 8, 9, 10, 11, 12, 13, 14, 15, 16, 17, 18, 19, 20, 21, 22, 23, 24, 25, 26, 27, 28, 29, 30, 31, 32, 33, 34, 35, 36, 37, 38, 39, 40, 41, 42, 43, 44, 45, 46, 47, 48, 49, 50, 51, 52, 53, 54, 55, 56, 57, 58, 59, 60, 61, 62, 63, 64, 65, 66, 67, 68, 69, 70, 71, 72, 73, 74, 75, 76, 77, 78, 79, 80, 81, 82, 83, 84, 85, 86, 87, 88, 89, 90, 91, 92, 93, 94, 95, 96, 97, 98, 99, 100, 98, 96, 94, 92, 90, 88, 86, 84, 82, 80, 78, 76, 74, 72, 70, 68, 66, 64, 62, 60, 58, 56, 54, 52, 50, 48, 46, 44, 42, 40, 38, 36, 34, 32, 30, 28, 26, 24, 22, 20, 18, 16, 14, 12, 10, 8, 6, 4, 2]\n"
     ]
    }
   ],
   "source": [
    "liste1 = []\n",
    "\n",
    "for j in range(1, 100):\n",
    "    liste1.append(j)\n",
    "\n",
    "liste2 = []\n",
    "\n",
    "for i in range (1, 101):\n",
    "    if i % 2 == 0:\n",
    "        liste2.append(i)\n",
    "\n",
    "liste3 = sorted(liste2, reverse=True)\n",
    "\n",
    "\n",
    "liste = liste1 + liste3\n",
    "\n",
    "print(liste)"
   ]
  },
  {
   "cell_type": "code",
   "execution_count": 94,
   "metadata": {},
   "outputs": [
    {
     "output_type": "stream",
     "name": "stdout",
     "text": [
      "[6, 7]\n"
     ]
    }
   ],
   "source": [
    "liste = []\n",
    "for i in range(50):\n",
    "    liste.append(i + 2)\n",
    "print(liste[4 : 6])"
   ]
  },
  {
   "cell_type": "code",
   "execution_count": 95,
   "metadata": {},
   "outputs": [
    {
     "output_type": "stream",
     "name": "stdout",
     "text": [
      "[34, 21, 8]\n"
     ]
    }
   ],
   "source": [
    "liste = [34, 21, 8]\n",
    "sorted(liste)\n",
    "v = liste[:] \n",
    "print(v)"
   ]
  },
  {
   "cell_type": "code",
   "execution_count": 96,
   "metadata": {},
   "outputs": [
    {
     "output_type": "stream",
     "name": "stdout",
     "text": [
      "1 1\n"
     ]
    }
   ],
   "source": [
    "def g(liste):\n",
    "    liste[1] = 1\n",
    "\n",
    "liste1 = [7, 2, 3, 4, 6, 1]\n",
    "liste2 = liste1\n",
    "g(liste1)\n",
    "\n",
    "print(liste1[1], liste2[1])"
   ]
  },
  {
   "cell_type": "code",
   "execution_count": 99,
   "metadata": {},
   "outputs": [
    {
     "output_type": "execute_result",
     "data": {
      "text/plain": [
       "[1, 25, 9]"
      ]
     },
     "metadata": {},
     "execution_count": 99
    }
   ],
   "source": [
    "def carre(liste):\n",
    "    liste_carre = []\n",
    "\n",
    "    for i in range(len(liste)):\n",
    "        j = liste[i]**2\n",
    "        liste_carre.append(j)\n",
    "\n",
    "    return liste_carre\n",
    "\n",
    "carre([1, 5, 3])\n"
   ]
  },
  {
   "cell_type": "code",
   "execution_count": 100,
   "metadata": {},
   "outputs": [
    {
     "output_type": "stream",
     "name": "stdout",
     "text": [
      "[0, 2, 6, 0, 0, 7, 0]\n"
     ]
    }
   ],
   "source": [
    "def f(x):\n",
    "    if x > 0:\n",
    "        return x+1\n",
    "    else: \n",
    "        return 0\n",
    "\n",
    "liste = [-2, 1, 5, -1, 0, 6, -3]\n",
    "resultat = [f(j) for j in liste]\n",
    "\n",
    "print(resultat)"
   ]
  },
  {
   "cell_type": "code",
   "execution_count": 101,
   "metadata": {},
   "outputs": [
    {
     "output_type": "stream",
     "name": "stdout",
     "text": [
      "totototo\n"
     ]
    }
   ],
   "source": [
    "liste = [5, 2, True, 7, \"toto\"]\n",
    "print(liste[1] * liste[-1])"
   ]
  },
  {
   "cell_type": "code",
   "execution_count": 104,
   "metadata": {},
   "outputs": [
    {
     "output_type": "stream",
     "name": "stdout",
     "text": [
      "1 0\n"
     ]
    }
   ],
   "source": [
    "liste1 = [[1, 2], [1, 2]]\n",
    "u = [1, 2]\n",
    "liste2 = [u, u]\n",
    "liste1[0][0] = 0\n",
    "liste2[0][0] = 0\n",
    "\n",
    "print(liste1[1][0], liste2[1][0])"
   ]
  },
  {
   "cell_type": "code",
   "execution_count": 106,
   "metadata": {},
   "outputs": [
    {
     "output_type": "stream",
     "name": "stdout",
     "text": [
      "[0, 0, 1, 5, 5]\n"
     ]
    }
   ],
   "source": [
    "liste300 = [5] * 2 + [0] * 3\n",
    "liste300.append(1)\n",
    "liste300.remove(0)\n",
    "liste300.sort()\n",
    "print(liste300)"
   ]
  },
  {
   "cell_type": "code",
   "execution_count": 7,
   "metadata": {},
   "outputs": [
    {
     "output_type": "stream",
     "name": "stdout",
     "text": [
      "[[1, 2, 3, 4, 5], [2, 3, 4, 5, 6], [3, 4, 5, 6, 7], [4, 5, 6, 7, 8], [5, 6, 7, 8, 9]]\n"
     ]
    }
   ],
   "source": [
    "n = 5\n",
    "\n",
    "L = [[0] * n for i in range(n)]\n",
    "\n",
    "for j in range(0, n):\n",
    "    for i in range(len(L)):\n",
    "        L[j][i]= i+j+1\n",
    "\n",
    "print(L)\n"
   ]
  },
  {
   "cell_type": "code",
   "execution_count": null,
   "metadata": {},
   "outputs": [],
   "source": []
  }
 ],
 "metadata": {
  "kernelspec": {
   "display_name": "Python 3",
   "language": "python",
   "name": "python3"
  },
  "language_info": {
   "codemirror_mode": {
    "name": "ipython",
    "version": 3
   },
   "file_extension": ".py",
   "mimetype": "text/x-python",
   "name": "python",
   "nbconvert_exporter": "python",
   "pygments_lexer": "ipython3",
   "version": "3.8.5-final"
  }
 },
 "nbformat": 4,
 "nbformat_minor": 1
}