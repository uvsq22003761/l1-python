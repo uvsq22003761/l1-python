{
 "cells": [
  {
   "cell_type": "markdown",
   "metadata": {
    "slideshow": {
     "slide_type": "slide"
    }
   },
   "source": [
    "# TD 2: Les structures de contrôle\n",
    "\n",
    "---\n",
    "\n",
    "## 0. Récupération des nouveaux documents\n",
    "\n",
    "\n",
    "Les sujets de TD ainsi que les supports de cours sont publiés en ligne au fur et à mesure sur l'espace github original [https://github.com/uvsq-info/l1-python](https://github.com/uvsq-info/l1-python). Au moment où vous avez fait le fork de cet espace sur votre espace personnel, il est probable que tous les contenus n'étaient pas présents. Pour compléter votre espace, deux solutions sont possibles:\n",
    "\n",
    "1. en ligne de commande dans le terminal, en suivant la procédure de la section *Intégrer les mises à jour du projet original* du fichier [README.md](https://github.com/uvsq-info/l1-python/blob/master/README.md#int%C3%A9grer-les-mises-%C3%A0-jour-du-projet-original)\n",
    "2. aller sur la page du projet original [https://github.com/uvsq-info/l1-python](https://github.com/uvsq-info/l1-python), et cliquer sur le bouton vert `Code` en haut à droite. Choisir `download ZIP`, puis extraire l'ensemble des nouveaux fichiers vers votre projet personnel local. Vous pouvez ensuite sauvegarder ces ajouts dans votre espace github personnel en suivant la procédure habituelle.\n"
   ]
  },
  {
   "cell_type": "markdown",
   "metadata": {
    "slideshow": {
     "slide_type": "slide"
    }
   },
   "source": [
    "---\n",
    "\n",
    "## 1. Premiers exercices avec les structures conditionnelles\n",
    "\n",
    "**Exercice 1:**\n",
    "\n",
    "1. Soit *num1 = 15* et *num2 = 5*. Ecrire un programme qui affiche *Factors!* si l'un des nombres est un facteur de l'autre (c'est-à-dire qu'il divise l'autre nombre). Si aucun des nombres n'est un facteur de l'autre, le programme n'affiche rien.\n",
    "2. Changer le code que vous avez écrit de telle sorte qu'il affiche toujours *Factors!* si un nombre est un facteur de l'autre, mais qui affiche aussi *Not factors!* si aucun des nombres n'est un facteur de l'autre."
   ]
  },
  {
   "cell_type": "code",
   "execution_count": 5,
   "metadata": {
    "slideshow": {
     "slide_type": "notes"
    },
    "tags": []
   },
   "outputs": [
    {
     "output_type": "stream",
     "name": "stdout",
     "text": "Factors!\n"
    }
   ],
   "source": [
    "num1 = 15\n",
    "num2 = 5\n",
    "if (num1 % num2) == 0:\n",
    "    print (\"Factors!\")\n",
    "elif (num2 % num1) == 0:\n",
    "    print (\"Factors!\")"
   ]
  },
  {
   "cell_type": "markdown",
   "metadata": {
    "slideshow": {
     "slide_type": "slide"
    }
   },
   "source": [
    "**Exercice 2:**\n",
    "    \n",
    "Soit *state = \"Georgia\"*. Ecrire un programme qui permet d'afficher un message spécifique en fonction de la variable *state* :  \n",
    "* \"School isn't cancelled.\" si nous sommes à New Jersey,  \n",
    "* \"School is postponed.\" si nous sommes à North Carolina,\n",
    "* \"School is cancelled!\" si nous sommes à Georgia,  \n",
    "* \"School's status is unknown\" si nous ne sommes pas dans un des trois états précédemment mentionnés."
   ]
  },
  {
   "cell_type": "code",
   "execution_count": 1,
   "metadata": {
    "slideshow": {
     "slide_type": "notes"
    },
    "tags": []
   },
   "outputs": [
    {
     "output_type": "stream",
     "name": "stdout",
     "text": "School is cancelled !\n"
    }
   ],
   "source": [
    "state = input(\"Enter state\")\n",
    "\n",
    "if state == \"Georgia\":\n",
    "    print(\"School is cancelled !\")\n",
    "elif state == \"North Carolina\":\n",
    "    print(\"School is postponed\")\n",
    "elif state == \"New Jersey\":\n",
    "    print(\"School isn't cancelled\")\n",
    "else:\n",
    "    print(\"School's status is unknow\")"
   ]
  },
  {
   "cell_type": "markdown",
   "metadata": {
    "slideshow": {
     "slide_type": "slide"
    }
   },
   "source": [
    "**Exercice 3:**\n",
    "\n",
    "Ecrire un programme pour découvrir le signe du zodiaque chinois pour une année donnée. Le signe du zodiaque chinois est basé sur un cycle de 12 ans et chaque année de ce cycle est représentée par un animal :\n",
    "* 0: monkey\n",
    "* 1: rooster\n",
    "* 2: dog\n",
    "* 3: pig\n",
    "* 4: rat\n",
    "* 5: ox\n",
    "* 6: tiger\n",
    "* 7: rabbit\n",
    "* 8: dragon\n",
    "* 9: snake\n",
    "* 10: horse\n",
    "* 11: sheep\n",
    "\n",
    "La valeur de l'année % 12 détermine le signe du zodiaque. Par exemple, 1900 est l'année du *rat* puisque 1900 % 12 est 4."
   ]
  },
  {
   "cell_type": "code",
   "execution_count": 6,
   "metadata": {
    "slideshow": {
     "slide_type": "notes"
    },
    "tags": []
   },
   "outputs": [
    {
     "output_type": "stream",
     "name": "stdout",
     "text": "Rat\n"
    }
   ],
   "source": [
    "year = int(input(\"Enter year\"))\n",
    "\n",
    "if year % 12 == 0:\n",
    "    print(\"Monkey\")\n",
    "elif year % 12 == 1:\n",
    "    print(\"Rooster\")\n",
    "elif year % 12 == 2:\n",
    "    print(\"Dog\")\n",
    "elif year % 12 == 3:\n",
    "    print(\"Pig\")\n",
    "elif year % 12 == 4:\n",
    "    print(\"Rat\")\n",
    "elif year % 12 == 5:\n",
    "    print(\"ox\")\n",
    "elif year % 12 == 6:\n",
    "    print(\"tiger\")\n",
    "elif year % 12 == 7:\n",
    "    print(\"rabbit\")\n",
    "elif year % 12 == 8:\n",
    "    print(\"dragon\")\n",
    "elif year % 12 == 9:\n",
    "    print(\"snake\")\n",
    "elif year % 12 == 10:\n",
    "    print(\"Horse\")\n",
    "elif year % 12 == 11:\n",
    "    print(\"Sheep\")\n"
   ]
  },
  {
   "cell_type": "markdown",
   "metadata": {
    "slideshow": {
     "slide_type": "slide"
    }
   },
   "source": [
    "**Exercice 4:**\n",
    "\n",
    "Soit *temperature = -3.7* et *celsius = True*. *celsius* est une variable booléenne qui indique si la température est en Celsius; si c'est *False*, alors la température donnée est en Fahrenheit. Ecrire un premier programme en utilisant *if-else* seulement qui permet d'afficher *Freezing* si les valeurs données représentent une température très basse, et *Not freezing* si ce n'est pas le cas. En Celsius, on considère qu'il fait très froid lorsque la température est inférieure ou égale à 0 degré. En Fahrenheit, on considère qu'il fait très froid lorsque la température est inférieure ou égale à 32 degrés. Proposer une seconde solution en utilisant *if-elif-else* à ce même problème."
   ]
  },
  {
   "cell_type": "code",
   "execution_count": 34,
   "metadata": {
    "tags": []
   },
   "outputs": [
    {
     "output_type": "stream",
     "name": "stdout",
     "text": "Freezing\n"
    }
   ],
   "source": [
    "temperature = (-3.7)\n",
    "celsius = True\n",
    "\n",
    "if (celsius == True and temperature <= 0) or (celsius == False and temperature <= 32):\n",
    "    print(\"Freezing\")\n",
    "else:\n",
    "    print(\"Not Freezing\")"
   ]
  },
  {
   "source": [],
   "cell_type": "markdown",
   "metadata": {
    "slideshow": {
     "slide_type": "notes"
    }
   }
  },
  {
   "cell_type": "code",
   "execution_count": 4,
   "metadata": {
    "tags": []
   },
   "outputs": [
    {
     "output_type": "stream",
     "name": "stdout",
     "text": "Freezing\n"
    }
   ],
   "source": [
    "temperature = (-3.7)\n",
    "celsius = True\n",
    "\n",
    "if celsius == True:\n",
    "    if temperature > 0:\n",
    "        print(\"Not Freezing\")\n",
    "    else:\n",
    "        print(\"Freezing\")\n",
    "elif celsius == False:\n",
    "    if temperature > 32:\n",
    "        print(\"Not Freezing\")\n",
    "    else:\n",
    "        print(\"Freezing\")\n"
   ]
  },
  {
   "cell_type": "markdown",
   "metadata": {
    "slideshow": {
     "slide_type": "slide"
    }
   },
   "source": [
    "**Exercice 5:**\n",
    "    \n",
    "Ecrire un programme qui permet de déterminer si une année est bissextile ou non en utilisant une seule instruction *if-else*. Une année *A* est bissextile si *A* est divisible par 4. Elle ne l’est cependant pas si *A* est un multiple\n",
    "de 100, à moins que *A* ne soit multiple de 400.    "
   ]
  },
  {
   "cell_type": "code",
   "execution_count": 1,
   "metadata": {
    "slideshow": {
     "slide_type": "notes"
    },
    "tags": []
   },
   "outputs": [
    {
     "output_type": "stream",
     "name": "stdout",
     "text": "2002 n&#39;est pas une année bissextile.\n"
    }
   ],
   "source": [
    "A= int(input(\"Entrer année\"))\n",
    "\n",
    "if (A % 4) !=0:\n",
    "    print (A, \"n'est pas une année bissextile.\")\n",
    "\n",
    "if (A % 100) == 0 and (A % 400) != 0:\n",
    "    print (A, \"n'est pas une année bissextile.\")\n",
    "\n",
    "if (A % 4) == 0 and (A % 100) != 0:\n",
    "    print (A, \"est une année bissextile.\")\n",
    "\n",
    "if (A % 400) == 0:\n",
    "    print (A, \"est une année bissextile.\")"
   ]
  },
  {
   "source": [
    "---\n",
    "\n",
    "## 2. Premiers exercices avec les structures itératives\n",
    "\n",
    "**Exercice 6:**\n",
    "\n",
    "1. Ecrire un programme qui permet d'afficher tous les nombres entre 1 et 10 (bornes incluses).\n",
    "2. Ecrire un programme se limitant à la boucle *for* qui permet d'afficher tous les nombres pairs entre 1 et 20 (bornes incluses). Proposer une deuxième solution en incluant une structure conditionnelle."
   ],
   "cell_type": "markdown",
   "metadata": {}
  },
  {
   "cell_type": "code",
   "execution_count": 2,
   "metadata": {},
   "outputs": [
    {
     "output_type": "stream",
     "name": "stdout",
     "text": [
      "1\n2\n3\n4\n5\n6\n7\n8\n9\n10\n"
     ]
    }
   ],
   "source": [
    "for i in range (0, 10):\n",
    "    i +=1\n",
    "    print (i)"
   ]
  },
  {
   "cell_type": "code",
   "execution_count": 7,
   "metadata": {},
   "outputs": [
    {
     "output_type": "stream",
     "name": "stdout",
     "text": [
      "2\n4\n6\n8\n10\n12\n14\n16\n18\n20\n"
     ]
    }
   ],
   "source": [
    "b=0\n",
    "for a in range (1, 11):\n",
    "    b +=2\n",
    "    print (b)"
   ]
  },
  {
   "cell_type": "code",
   "execution_count": 11,
   "metadata": {},
   "outputs": [
    {
     "output_type": "stream",
     "name": "stdout",
     "text": [
      "2\n4\n6\n8\n10\n12\n14\n16\n18\n20\n"
     ]
    }
   ],
   "source": [
    "d = 0\n",
    "for c in range (1, 21):\n",
    "    if c % 2 == 0:\n",
    "        print (c)\n"
   ]
  },
  {
   "source": [
    "**Exercice 7:**\n",
    "    \n",
    "1. Ecrire un programme qui demande à l'utilisateur de saisir *n* nombres, *n* étant choisi par l'utilisateur, puis d'afficher la moyenne de ces nombres.\n",
    "\n",
    "2. Même question, mais l'utilisateur ne choisit pas à l'avance le nombre *n*, la procédure s'arrête quand il saisit le nombre -1.\n"
   ],
   "cell_type": "markdown",
   "metadata": {}
  },
  {
   "cell_type": "code",
   "execution_count": 19,
   "metadata": {},
   "outputs": [
    {
     "output_type": "stream",
     "name": "stdout",
     "text": [
      "La moyenne est: 3.0\n"
     ]
    }
   ],
   "source": [
    "n = float(input(\"choisir combien de nombre vous voulez rentrer\"))\n",
    "q= 0\n",
    "total = 0\n",
    "\n",
    "while n != q:\n",
    "    q += 1\n",
    "    q2 = q\n",
    "    nb = float(input(\"Entrez le nombre suivant\"))\n",
    "    total += nb\n",
    "    \n",
    "resultat = (total) / (q2)\n",
    "\n",
    "print (\"La moyenne est:\", resultat)"
   ]
  },
  {
   "cell_type": "code",
   "execution_count": 6,
   "metadata": {},
   "outputs": [
    {
     "output_type": "stream",
     "name": "stdout",
     "text": [
      "La moyenne est: 4.8\n"
     ]
    }
   ],
   "source": [
    "n = float(input(\"Entrer le premier nombre\"))\n",
    "q = 1\n",
    "total = n\n",
    "\n",
    "while n != -1:\n",
    "    q += 1\n",
    "    n = float (input(\"Entrer le nombre suivant\"))\n",
    "    total += n\n",
    "\n",
    "\n",
    "resultat = (total) / (q)\n",
    "\n",
    "print (\"La moyenne est:\", resultat)"
   ]
  },
  {
   "source": [
    "**Exercice 8:**\n",
    "\n",
    "Ecrire un programme qui permet de calculer le factoriel d'un nombre positif donné par l'utlisateur selon la formule suivante : \n",
    "n! = 1 x 2 x ... x n.  \n",
    "\n",
    "1. Une première version en utilisant la boucle *for*\n",
    "2. Une seconde version en utilisant la boucle *while*"
   ],
   "cell_type": "markdown",
   "metadata": {}
  },
  {
   "cell_type": "code",
   "execution_count": 10,
   "metadata": {},
   "outputs": [
    {
     "output_type": "stream",
     "name": "stdout",
     "text": [
      "Resultat: 720\n"
     ]
    }
   ],
   "source": [
    "n = int(input(\"Entrez nombre positif et entier\"))\n",
    "nf = 1\n",
    "\n",
    "for a in range (1, n+1):\n",
    "    nf = 1*a*nf\n",
    "\n",
    "print (\"Resultat:\", nf)"
   ]
  },
  {
   "cell_type": "code",
   "execution_count": 13,
   "metadata": {},
   "outputs": [
    {
     "output_type": "stream",
     "name": "stdout",
     "text": [
      "Resultat: 720\n"
     ]
    }
   ],
   "source": [
    "n = int(input(\"Entrez nombre positif et entier\"))\n",
    "nf = 1\n",
    "a = 0\n",
    "\n",
    "while a != n:\n",
    "    a += 1\n",
    "    nf = nf*a\n",
    "\n",
    "print (\"Resultat:\", nf)"
   ]
  },
  {
   "cell_type": "markdown",
   "metadata": {
    "slideshow": {
     "slide_type": "slide"
    }
   },
   "source": [
    "---\n",
    "\n",
    "## 3. Pour aller plus loin\n",
    "\n",
    "**Excercice 9:**\n",
    "\n",
    "Ecrire un programme qui permet de connaître le jour de naissance de l'utilisateur en posant cinq questions.\n",
    "Chaque question demande si le jour est dans l'un des cinq ensembles suivants :\n",
    "\n",
    "* Set 1: [1 3 5 7 9 11 13 15 17 19 21 23 25 27 29 31]\n",
    "* Set 2: [2 3 6 7 10 11 14 15 18 19 22 23 26 27 30 31]\n",
    "* Set 3: [4 5 6 7 12 13 14 15 20 21 22 23 28 29 30 31]\n",
    "* Set 4: [8 9 10 11 12 13 14 15 24 25 26 27 28 29 30 31]\n",
    "* Set 5: [16 17 18 19 20 21 22 23 24 25 26 27 28 29 30 31]\n",
    "    \n",
    "\n",
    "Le jour de naissance est la somme des premiers nombres dans les ensembles où le jour apparaît. Par exemple,\n",
    "si le jour de naissance est 19, il apparaît dans Set 1, Set 2 et Set 5. Les premiers chiffres de ces trois ensembles sont 1, 2 et 16. Leur somme est 19."
   ]
  },
  {
   "cell_type": "code",
   "execution_count": 22,
   "metadata": {
    "slideshow": {
     "slide_type": "notes"
    }
   },
   "outputs": [
    {
     "output_type": "stream",
     "name": "stdout",
     "text": [
      "Tu es né(e) le 28\n"
     ]
    }
   ],
   "source": [
    "s1 = input(\"Ton jour de naissance est-il dans ce set : 1 3 5 7 9 11 13 15 17 19 21 23 25 27 29 31 ? Repondre par 'oui' ou 'non'\")\n",
    "s2 = input(\"Ton jour de naissance est-il dans ce set : 2 3 6 7 10 11 14 15 18 19 22 23 26 27 30 31 ? Répondre par oui ou non\")\n",
    "s3 = input(\"Ton jour de naissance est-il dans ce set : 4 5 6 7 12 13 14 15 20 21 22 23 28 29 30 31 ? Répondre par oui ou non\")\n",
    "s4 = input(\"Ton jour de naissance est-il dans ce set : 8 9 10 11 12 13 14 15 24 25 26 27 28 29 30 31 ? Répondre par oui ou non\")\n",
    "s5 = input(\"Ton jour de naissance est-il dans ce set : 16 17 18 19 20 21 22 23 24 25 26 27 28 29 30 31 ? Répondre par oui ou non\")\n",
    "\n",
    "total = 0\n",
    "\n",
    "ss1 = 1\n",
    "ss2 = 2\n",
    "ss3 = 4\n",
    "ss4 = 8\n",
    "ss5 = 16\n",
    "\n",
    "if s1 == \"oui\":\n",
    "    total += ss1\n",
    "\n",
    "if s2 == \"oui\":\n",
    "    total += ss2\n",
    "\n",
    "if s3 == \"oui\":\n",
    "    total += ss3\n",
    "\n",
    "if s4 == \"oui\":\n",
    "    total += ss4\n",
    "\n",
    "if s5 == \"oui\":\n",
    "    total += ss5\n",
    "\n",
    "\n",
    "print (\"Tu es né(e) le\", total)  "
   ]
  },
  {
   "cell_type": "markdown",
   "metadata": {
    "slideshow": {
     "slide_type": "slide"
    }
   },
   "source": [
    "**Excercice 10:**\n",
    "\n",
    "Ecrire un programme qui permet de génèrer de manière aléatoire un nombre à deux chiffres, invite l'utilisateur à saisir un nombre à deux chiffres et détermine si l'utilisateur gagne selon les règles suivantes :\n",
    "* Si l'entrée de l'utilisateur correspond à la loterie (le nombre généré aléatoirement) dans l'ordre exact, la récompense est de 10 000€.\n",
    "* Sinon, si les deux chiffres entrés par l'utilisateur correspondent aux deux chiffres du numéro de loterie, la récompense est de 3 000€.\n",
    "* Sinon, si un chiffre dans l'entrée de l'utilisateur correspond à un chiffre dans le numéro de loterie, la récompense est de 1 000€.\n",
    "\n",
    "**Astuce :** Utiliser la fonction **random.randint(0, 99)** pour génèrer de manière aléatoire un nombre à deux chiffres. Cette fonction doit être accompagné par **import random** comme première instruction dans le code."
   ]
  },
  {
   "cell_type": "code",
   "execution_count": 18,
   "metadata": {
    "slideshow": {
     "slide_type": "notes"
    }
   },
   "outputs": [
    {
     "output_type": "stream",
     "name": "stdout",
     "text": [
      "Vous avez à moitié gagné. Vous remportez 1000 euros.\n"
     ]
    }
   ],
   "source": [
    "import random\n",
    "nb_loto = random.randint(10, 99)\n",
    "\n",
    "nb_utilisateur = int(input(\"Entrez un nombre à deux chiffres\"))\n",
    "\n",
    "nb_loto1 = nb_loto // 10\n",
    "nb_loto2= nb_loto % 10\n",
    "\n",
    "nb_utilisateur1 =  nb_utilisateur // 10\n",
    "nb_utilisateur2 = nb_utilisateur % 10\n",
    "\n",
    "\n",
    "if nb_utilisateur == nb_loto:\n",
    "    print (\"VOUS AVEZ GAGNE !!! Vous repartez avec 10 000 euros\")\n",
    "\n",
    "elif (nb_utilisateur1 == nb_loto1 or nb_utilisateur1 == nb_loto2) and (nb_utilisateur2 == nb_loto1 or nb_utilisateur2 == nb_loto2):\n",
    "    print (\"Presque gagné ! Vous remportez 3000 euros.\")\n",
    "\n",
    "elif nb_utilisateur1 == nb_loto1 or nb_utilisateur1 == nb_loto2 or nb_utilisateur2 == nb_loto1 or nb_utilisateur2 == nb_loto2:\n",
    "    print (\"Vous avez à moitié gagné. Vous remportez 1000 euros.\")\n",
    "\n",
    "else:\n",
    "    print (\"Perdu...\")\n"
   ]
  },
  {
   "source": [
    "**Exercice 11:**\n",
    "    \n",
    "Ecrire un programme qui permet de calculer la somme des chiffres d'un entier *n* donné. Le nombre *n* doit être compris entre 10 et 20 (bornes incluses)."
   ],
   "cell_type": "markdown",
   "metadata": {}
  },
  {
   "cell_type": "code",
   "execution_count": 19,
   "metadata": {},
   "outputs": [
    {
     "output_type": "stream",
     "name": "stdout",
     "text": [
      "La somme des 2 chiffres de votre nombre est:  4\n"
     ]
    }
   ],
   "source": [
    "nb = int(input(\"Entre un nb entre 10 et 20\"))\n",
    "\n",
    "nb1 = nb // 10\n",
    "nb2 = nb % 10\n",
    "\n",
    "somme = nb1 + nb2\n",
    "\n",
    "print (\"La somme des 2 chiffres de votre nombre est: \",somme)"
   ]
  },
  {
   "source": [
    "**Exercice 12:**\n",
    "\n",
    "1. Ecrire un programme qui permet de générer aléatoirement deux nombres entre 0 et 9, de calculer leurs différences (en valeur absolue), puis d'inviter l'utilisateur à répondre à la question suivante *que vaut abs(number1 - number2)?*. Le programme doit permettre à l'utilisateur de répondre plusieurs fois jusqu'à la saisie de la bonne réponse.\n",
    "2. Modifier le programme précédent de telle sorte qu'il génère cinq occurences à la suite invitant à répondre à la question précédente. A la fin, le programme affiche le nombre moyen de tentatives qu'il a fallu à l'utilisateur pour répondre à une question."
   ],
   "cell_type": "markdown",
   "metadata": {}
  },
  {
   "cell_type": "code",
   "execution_count": 33,
   "metadata": {
    "tags": []
   },
   "outputs": [
    {
     "output_type": "stream",
     "name": "stdout",
     "text": [
      "Bien joué vous avez trouvé la bonne réponse qui était : 3\n"
     ]
    }
   ],
   "source": [
    "import random\n",
    "chiffre1 = random.randint(0, 9)\n",
    "chiffre2 = random.randint(0, 9)\n",
    "\n",
    "diff = chiffre1 - chiffre2\n",
    "\n",
    "if diff < 0:\n",
    "    diff = chiffre2 - chiffre1\n",
    "\n",
    "nb_utilisateur = int(input(\"Qu'elle est la différence du chiffre 1 et du chiffre 2 ?\"))\n",
    "\n",
    "while nb_utilisateur != diff:\n",
    "    nb_utilisateur = int(input(\"Qu'elle est la différence du chiffre 1 et du chiffre 2 ?\"))\n",
    "\n",
    "\n",
    "print (\"Bien joué vous avez trouvé la bonne réponse qui était :\", diff)"
   ]
  },
  {
   "cell_type": "code",
   "execution_count": 38,
   "metadata": {
    "tags": []
   },
   "outputs": [
    {
     "output_type": "error",
     "ename": "ValueError",
     "evalue": "invalid literal for int() with base 10: ''",
     "traceback": [
      "\u001b[1;31m---------------------------------------------------------------------------\u001b[0m",
      "\u001b[1;31mValueError\u001b[0m                                Traceback (most recent call last)",
      "\u001b[1;32m<ipython-input-38-35c22f16ee1c>\u001b[0m in \u001b[0;36m<module>\u001b[1;34m\u001b[0m\n\u001b[0;32m     16\u001b[0m \u001b[1;33m\u001b[0m\u001b[0m\n\u001b[0;32m     17\u001b[0m \u001b[1;32mwhile\u001b[0m \u001b[0mnb_utilisateur\u001b[0m \u001b[1;33m!=\u001b[0m \u001b[0mdiff\u001b[0m\u001b[1;33m:\u001b[0m\u001b[1;33m\u001b[0m\u001b[1;33m\u001b[0m\u001b[0m\n\u001b[1;32m---> 18\u001b[1;33m     \u001b[0mnb_utilisateur\u001b[0m \u001b[1;33m=\u001b[0m \u001b[0mint\u001b[0m\u001b[1;33m(\u001b[0m\u001b[0minput\u001b[0m\u001b[1;33m(\u001b[0m\u001b[1;34m\"Qu'elle est la différence de tous les chiffres ?\"\u001b[0m\u001b[1;33m)\u001b[0m\u001b[1;33m)\u001b[0m\u001b[1;33m\u001b[0m\u001b[1;33m\u001b[0m\u001b[0m\n\u001b[0m\u001b[0;32m     19\u001b[0m     \u001b[0mtentatives\u001b[0m \u001b[1;33m+=\u001b[0m \u001b[1;36m1\u001b[0m\u001b[1;33m\u001b[0m\u001b[1;33m\u001b[0m\u001b[0m\n\u001b[0;32m     20\u001b[0m \u001b[1;33m\u001b[0m\u001b[0m\n",
      "\u001b[1;31mValueError\u001b[0m: invalid literal for int() with base 10: ''"
     ]
    }
   ],
   "source": [
    "import random\n",
    "chiffre1 = random.randint(0, 9)\n",
    "chiffre2 = random.randint(0, 9)\n",
    "chiffre3 = random.randint(0, 9)\n",
    "chiffre4 = random.randint(0, 9)\n",
    "chiffre5 = random.randint(0, 9)\n",
    "\n",
    "\n",
    "\n",
    "diff = chiffre1 - chiffre2 - chiffre3 - chiffre4 - chiffre5\n",
    "abs (diff)\n",
    "\n",
    "tentatives = 1\n",
    "\n",
    "nb_utilisateur = int(input(\"Qu'elle est la différence de tous les chiffres ?\"))\n",
    "\n",
    "while nb_utilisateur != diff:\n",
    "    nb_utilisateur = int(input(\"Qu'elle est la différence de tous les chiffres ?\"))\n",
    "    tentatives += 1\n",
    "\n",
    "\n",
    "print (\"Bien joué vous avez trouvé la bonne réponse qui était :\", diff)\n",
    "print (\"Vous avez réussi au bout de\", tentavites, \"tentative(s)\")\n"
   ]
  },
  {
   "source": [
    "**Exercice 13:**\n",
    "\n",
    "Ecrire un programme qui permet de calculer le nombre de mots dans une phrase saisie par l'utilisateur."
   ],
   "cell_type": "markdown",
   "metadata": {}
  },
  {
   "cell_type": "code",
   "execution_count": 53,
   "metadata": {
    "tags": []
   },
   "outputs": [
    {
     "output_type": "stream",
     "name": "stdout",
     "text": [
      "il y a 5 mots dans cette phrase\n"
     ]
    }
   ],
   "source": [
    "def compte_mots(phrase):\n",
    "    espace,nb_mots=' ', 0\n",
    "    for char in phrase:\n",
    "        nb_mots += int(espace == ' ' and char != ' ')\n",
    "        espace = char\n",
    "    return print(\"il y a\", nb_mots, \"mots dans cette phrase\")\n",
    "\n",
    "compte_mots(input(\"Entrer phrase.\"))\n"
   ]
  },
  {
   "cell_type": "markdown",
   "metadata": {
    "slideshow": {
     "slide_type": "slide"
    }
   },
   "source": [
    "---\n",
    "\n",
    "## 4. Pour s'entraîner\n",
    "\n",
    "**Exercice 14:**\n",
    "    \n",
    "Soit la variable my_input = \"zoophysiology\". Ecrire un script qui permet d'afficher l'un des messages suivants en fonction du nombre maximum de *o* consécutifs dans la variable *my_input*. Par exemple, le script doit afficher \"I like studying birds! I want to become an ornithologist!\" parce qu'il y a deux *o* consécutifs, même s'il y a aussi des *o* individual.\n",
    "Ignorer les *o* majuscules - recherchez que les *o* minuscules.\n",
    "\n",
    "* Si \"o\" apparaît trois fois ou plus de suite, afficher le message \"I like going to the zoo!\"  \n",
    "* Si \"o\" apparaît deux fois, afficher le message \"I like studying birds! I want to become an ornithologist!\"  \n",
    "* Si \"o\" apparaît une seule fois, afficher le message \"I like studying fish! I want to become an ichthyologist!\"  \n",
    "* Si \"o\" n'apparaît pas dans la variable *my_input*, afficher le message \"I miss going to the zoo!\"  \n",
    "\n",
    "**Astuce :** Utiliser l'opérateur **in** qui renvoie **True** si la première chaîne se trouve dans la deuxième chaîne. "
   ]
  },
  {
   "cell_type": "code",
   "execution_count": 57,
   "metadata": {
    "slideshow": {
     "slide_type": "notes"
    }
   },
   "outputs": [
    {
     "output_type": "stream",
     "name": "stdout",
     "text": [
      "il y a 4 o dans cette phrase\n"
     ]
    }
   ],
   "source": [
    "\n",
    "??????????????????\n",
    "\n",
    "my_input = \"zoophysiology\"\n",
    "\n",
    "def compte_o(phrase):\n",
    "    lettre,nb_o= \"o\", 0\n",
    "    for char in phrase:\n",
    "        nb_o += int(lettre == 'o' and char != 'o')\n",
    "        lettre = char\n",
    "    return print(\"il y a\", nb_o, \"o dans cette phrase\")\n",
    "\n",
    "if nb_o ==\n",
    "\n",
    "compte_o(my_input)"
   ]
  },
  {
   "cell_type": "markdown",
   "metadata": {
    "slideshow": {
     "slide_type": "slide"
    }
   },
   "source": [
    "**Exercice 15:**\n",
    "    \n",
    "Créer quatre variables nommées *team_1* et *team_2*, représentant deux noms d'équipes, et *team_1_score* et *team_2_score*, représentant les scores de ces deux équipes. \n",
    "Une équipe gagne si son score est supérieur à l'autre score de l'autre équipe.\n",
    " \n",
    "Ecrire un premier script qui permet d'afficher les messages suivants selon les valeurs entrées, ceci en utilisant seulement les quatres variables créées :\n",
    "* Si une équipe bat l'autre, affichez: \"[winner] beat [loser] by [margin]\"\n",
    "* Si aucune des équipes n'a gagné, affichez: \"[team_1] played [team_2] and it was a tie\"\n",
    "\n",
    "Ecrire un deuxième script qui permet d'afficher les mêmes messages mais en ajoutant trois variables de plus :\n",
    "* La variable *winner* pour définir l'équipe gagnante  \n",
    "* La variable *loser* pour définier l'équipe perdante  \n",
    "* La variable *margin* pour définir la différence entre les deux scores \n"
   ]
  },
  {
   "cell_type": "code",
   "execution_count": 59,
   "metadata": {
    "slideshow": {
     "slide_type": "notes"
    }
   },
   "outputs": [
    {
     "output_type": "stream",
     "name": "stdout",
     "text": [
      "Team 2 beat Team 1 by -3\n"
     ]
    }
   ],
   "source": [
    "team_1 = \"Team 1\"\n",
    "team_2 = \"Team 2\"\n",
    "\n",
    "team_1_score = 7\n",
    "team_2_score = 10\n",
    "\n",
    "margin = team_1_score - team_2_score\n",
    "\n",
    "abs (margin)\n",
    "\n",
    "if team_1_score > team_2_score:\n",
    "    print (team_1, \"beat\", team_2, \"by\", margin )\n",
    "else:\n",
    "    print (team_2, \"beat\", team_1, \"by\", margin )\n",
    "\n",
    "if team_1_score == team_2_score:\n",
    "    print (team_1, \"played\", team_2, \"and it was a tie.\")\n"
   ]
  },
  {
   "cell_type": "code",
   "execution_count": 61,
   "metadata": {
    "slideshow": {
     "slide_type": "notes"
    }
   },
   "outputs": [
    {
     "output_type": "stream",
     "name": "stdout",
     "text": [
      "Team 2 beat Team 1 by -3\n"
     ]
    }
   ],
   "source": [
    "team_1 = \"Team 1\"\n",
    "team_2 = \"Team 2\"\n",
    "\n",
    "team_1_score = 7\n",
    "team_2_score = 10\n",
    "\n",
    "margin = team_1_score - team_2_score\n",
    "abs (margin)\n",
    "\n",
    "\n",
    "if team_1_score > team_2_score:\n",
    "    winner = team_1\n",
    "    looser = team_2\n",
    "elif team_2_score > team_1_score:\n",
    "    winner = team_2\n",
    "    looser = team_1\n",
    "\n",
    "if team_1_score == team_2_score:\n",
    "    print (team_1, \"played\", team_2, \"and it was a tie.\")\n",
    "else:\n",
    "    print (winner, \"beat\", looser, \"by\", margin )"
   ]
  },
  {
   "cell_type": "markdown",
   "metadata": {
    "slideshow": {
     "slide_type": "slide"
    }
   },
   "source": [
    "**Exercice 16:**\n",
    "    \n",
    "L'Indice de Masse Corporelle (IMC) permet d'estimer le poids idéal en fonction de la taille. Son calcul correspond au poids en kilogrammes divisé par le carré de la taille en mètre (IMC = poids en kg/taille² en m). Le chiffre obtenu permet d'estimer la corpulence et éventuellement le surpoids ou l'obésité chez l'adulte, homme ou femme.\n",
    "L'interprétation de l'IMC pour les personnes de 16 ans et plus est la suivante :\n",
    "* Moins de 18.5: Underweight\n",
    "* Entre 18.5 et 24.9: Normal\n",
    "* Entre 25.0 et 29.9: Overweight\n",
    "* Plus que 30.0: Obese\n",
    "\n",
    "Ecrire un programme qui permet de saisir un poids en *pounds* et une taille en *inches*, de calculer et d'afficher l'IMC à deux valeurs après la virgule, et d'afficher l'interprétation la plus adéquate. Notez qu'un *pound* équivaut à 0,45359237 kilogrammes et qu'un *inch* équivaut à 0,0254 mètre.  \n",
    "\n",
    "**Astuce :** Pour afficher deux valeurs après la virgule, utilisez la fonction **format(nom_variable, \".2f\")**. Exemple : **print('La moyenne est :', format(moyenne, \".2f\"))**"
   ]
  },
  {
   "cell_type": "code",
   "execution_count": 79,
   "metadata": {
    "slideshow": {
     "slide_type": "notes"
    }
   },
   "outputs": [
    {
     "output_type": "stream",
     "name": "stdout",
     "text": [
      "IMC =  70306.96 You are: Obese\n"
     ]
    }
   ],
   "source": [
    "poids = float(input (\"Saisir votre poids en punds\"))\n",
    "taille = float(input(\"Saisir votre taille en inches\"))\n",
    "\n",
    "\n",
    "poids = poids*45359237*(10**-1)\n",
    "taille = taille*254*10**(-2)\n",
    "\n",
    "\n",
    "IMC = poids / (taille**2)\n",
    "\n",
    "if IMC < 18.5:\n",
    "    print (\"IMC = \", IMC, \"You are: Underweight\")\n",
    "elif IMC >= 18.5 and IMC <= 24.9:\n",
    "    print (\"IMC = \", IMC, \"You are: Normal\")\n",
    "elif IMC >= 25 and IMC <= 29.9:\n",
    "    print (\"IMC = \", IMC, \"You are: Overweight\")\n",
    "elif IMC >= 30:\n",
    "    print (\"IMC = \", format(IMC, \".2f\"), \"You are: Obese\")\n",
    "else:\n",
    "    print(\"Problem\")"
   ]
  },
  {
   "source": [
    "**Exercice 17:**\n",
    "\n",
    "Ecrire un programme qui affiche un triangle d'étoiles de taille donnée, par exemple si on entre 6, le programme affiche:\n",
    "```\n",
    "*\n",
    "**\n",
    "***\n",
    "****\n",
    "*****\n",
    "******\n",
    "```"
   ],
   "cell_type": "markdown",
   "metadata": {}
  },
  {
   "cell_type": "code",
   "execution_count": 88,
   "metadata": {
    "tags": []
   },
   "outputs": [
    {
     "output_type": "stream",
     "name": "stdout",
     "text": [
      "\n*\n**\n***\n****\n*****\n******\n*******\n********\n*********\n**********\n"
     ]
    }
   ],
   "source": [
    "taille = int(input(\"Entrez la taille de votre étoile.\"))\n",
    "etoile = 0\n",
    "\n",
    "while etoile <= taille:\n",
    "    print (\"*\"*etoile)\n",
    "    etoile += 1"
   ]
  },
  {
   "source": [
    "**Exercice 18:**\n",
    "\n",
    "Même exercice mais cette fois la sortie est\n",
    "```\n",
    "     *\n",
    "    **         \n",
    "   ***\n",
    "  ****\n",
    " *****\n",
    "******\n",
    "```"
   ],
   "cell_type": "markdown",
   "metadata": {}
  },
  {
   "cell_type": "code",
   "execution_count": 91,
   "metadata": {
    "tags": []
   },
   "outputs": [
    {
     "output_type": "stream",
     "name": "stdout",
     "text": [
      "              \n             *\n            **\n           ***\n          ****\n         *****\n        ******\n       *******\n      ********\n     *********\n    **********\n   ***********\n  ************\n *************\n"
     ]
    }
   ],
   "source": [
    "taille = int(input(\"Entrez la taille de votre étoile.\"))\n",
    "etoile = 0\n",
    "\n",
    "while etoile <= taille:\n",
    "    espace = taille - etoile\n",
    "    print (\" \"*espace, \"*\"*etoile)\n",
    "    etoile += 1"
   ]
  },
  {
   "source": [
    "**Exercice 19:**\n",
    "\n",
    "Ecrire un programme qui calcule, étant donné un entier *n* rentré par l'utilisateur, la plus grande puissance de *n* inférieure à un million."
   ],
   "cell_type": "markdown",
   "metadata": {}
  },
  {
   "cell_type": "code",
   "execution_count": 92,
   "metadata": {
    "tags": []
   },
   "outputs": [
    {
     "output_type": "stream",
     "name": "stdout",
     "text": [
      "100\n"
     ]
    }
   ],
   "source": [
    "n = int(input(\"Saisir un entier n.\"))\n",
    "p=1\n",
    "\n",
    "while p**n < 1000000:\n",
    "    p += 1\n",
    "\n",
    "print (p)"
   ]
  },
  {
   "cell_type": "code",
   "execution_count": null,
   "metadata": {},
   "outputs": [],
   "source": []
  }
 ],
 "metadata": {
  "celltoolbar": "Diaporama",
  "kernelspec": {
   "display_name": "Python 3",
   "language": "python",
   "name": "python3"
  },
  "language_info": {
   "codemirror_mode": {
    "name": "ipython",
    "version": 3
   },
   "file_extension": ".py",
   "mimetype": "text/x-python",
   "name": "python",
   "nbconvert_exporter": "python",
   "pygments_lexer": "ipython3",
   "version": "3.8.5-final"
  }
 },
 "nbformat": 4,
 "nbformat_minor": 4
}